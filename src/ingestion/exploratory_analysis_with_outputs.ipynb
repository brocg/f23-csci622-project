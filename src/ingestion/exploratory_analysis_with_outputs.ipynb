{
 "cells": [
  {
   "cell_type": "code",
   "execution_count": 0,
   "metadata": {
    "application/vnd.databricks.v1+cell": {
     "cellMetadata": {
      "byteLimit": 2048000,
      "rowLimit": 10000
     },
     "inputWidgets": {},
     "nuid": "7b2ad78c-8d57-4aac-9dd4-d93579210b96",
     "showTitle": false,
     "title": ""
    }
   },
   "outputs": [],
   "source": [
    "# Add imports, read in data to analyze\n",
    "import json\n",
    "import matplotlib.pyplot as plt\n",
    "from pyspark.sql.functions import sum, desc, isnull, col, avg, count, when, from_json\n",
    "from pyspark.sql.types import StructType, StructField, IntegerType, StringType\n",
    "\n",
    "spark.conf.set(\n",
    "    \"fs.azure.account.key.assignment1store.dfs.core.windows.net\",\n",
    "    dbutils.secrets.get(scope=\"DatabricksSetupScope\", key=\"MySecret\"))\n",
    "\n",
    "uri = \"abfss://assignment1@assignment1store.dfs.core.windows.net/\"\n",
    "\n",
    "# Fitbit\n",
    "fitbit_daily_activity_df = spark.read.csv(uri + 'data/f23-proj/FitbitDailyActivity.csv', header=True)\n",
    "fitbit_sleep_log_df = spark.read.json(uri + 'data/f23-proj/FitbitSleepLog.json')\n",
    "fitbit_user_profile_df = spark.read.csv(uri + 'data/f23-proj/FitbitUserProfile.csv', header=True)\n",
    "\n",
    "# Hevy\n",
    "hevy_workouts_df = spark.read.csv(uri + 'data/f23-proj/HevyWorkouts.csv', header=True)\n",
    "\n",
    "# Polar\n",
    "polar_exercises_df = spark.read.csv(uri + 'data/f23-proj/PolarExercises.csv', header=True)\n",
    "\n",
    "# Kaggle datasets (static)\n",
    "crossfit_athletes_df = spark.read.csv(uri + 'data/f23-proj/CrossfitAthletes.csv', header=True)\n",
    "nfl_combine_results_df = spark.read.csv(uri + 'data/f23-proj/NFLCombineResults.csv', header=True)\n",
    "\n",
    "# World Masters Athletics (static)\n",
    "world_athletics_df = spark.read.csv(uri + 'data/f23-proj/mens_100m_race_results_2022_30_34.csv', header=True)"
   ]
  },
  {
   "cell_type": "markdown",
   "metadata": {
    "application/vnd.databricks.v1+cell": {
     "cellMetadata": {
      "byteLimit": 2048000,
      "rowLimit": 10000
     },
     "inputWidgets": {},
     "nuid": "242e742a-521c-4350-b5d6-6921eb25321f",
     "showTitle": false,
     "title": ""
    }
   },
   "source": [
    "# Display Fitbit Data\n",
    "Sleep log is most important file. This is the most valuable data (at the end of the JSON file response). \n",
    "\n",
    "```\n",
    "logId\": 43358421833,\n",
    "  \"logType\": \"auto_detected\",\n",
    "  \"minutesAfterWakeup\": 1,\n",
    "  \"minutesAsleep\": 481,\n",
    "  \"minutesAwake\": 59,\n",
    "  \"minutesToFallAsleep\": 0,\n",
    "  \"startTime\": \"2023-11-03T22:39:00.000\",\n",
    "  \"timeInBed\": 540,\n",
    "  \"type\": \"stages`\n",
    "```"
   ]
  },
  {
   "cell_type": "code",
   "execution_count": 0,
   "metadata": {
    "application/vnd.databricks.v1+cell": {
     "cellMetadata": {
      "byteLimit": 2048000,
      "rowLimit": 10000
     },
     "inputWidgets": {},
     "nuid": "9e5393bb-aeff-4371-ac84-646d5ca8a81c",
     "showTitle": false,
     "title": ""
    }
   },
   "outputs": [
    {
     "output_type": "display_data",
     "data": {
      "text/html": [
       "<style scoped>\n",
       "  .table-result-container {\n",
       "    max-height: 300px;\n",
       "    overflow: auto;\n",
       "  }\n",
       "  table, th, td {\n",
       "    border: 1px solid black;\n",
       "    border-collapse: collapse;\n",
       "  }\n",
       "  th, td {\n",
       "    padding: 5px;\n",
       "  }\n",
       "  th {\n",
       "    text-align: left;\n",
       "  }\n",
       "</style><div class='table-result-container'><table class='table-result'><thead style='background-color: white'><tr><th>0</th></tr></thead><tbody><tr><td>List(2023-11-04, 32400000, 98, 2023-11-04T07:39:30.000, 0, true, List(List(List(2023-11-03T22:39:00.000, wake, 420), List(2023-11-03T22:46:00.000, light, 330), List(2023-11-03T22:51:30.000, deep, 2400), List(2023-11-03T23:31:30.000, light, 2250), List(2023-11-04T00:09:00.000, rem, 1170), List(2023-11-04T00:28:30.000, light, 4230), List(2023-11-04T01:39:00.000, deep, 1050), List(2023-11-04T01:56:30.000, light, 60), List(2023-11-04T01:57:30.000, rem, 2220), List(2023-11-04T02:34:30.000, light, 3180), List(2023-11-04T03:27:30.000, wake, 240), List(2023-11-04T03:31:30.000, light, 300), List(2023-11-04T03:36:30.000, rem, 330), List(2023-11-04T03:42:00.000, light, 450), List(2023-11-04T03:49:30.000, wake, 270), List(2023-11-04T03:54:00.000, light, 600), List(2023-11-04T04:04:00.000, wake, 300), List(2023-11-04T04:09:00.000, light, 3420), List(2023-11-04T05:06:00.000, deep, 450), List(2023-11-04T05:13:30.000, light, 630), List(2023-11-04T05:24:00.000, wake, 270), List(2023-11-04T05:28:30.000, rem, 330), List(2023-11-04T05:34:00.000, light, 780), List(2023-11-04T05:47:00.000, rem, 420), List(2023-11-04T05:54:00.000, light, 750), List(2023-11-04T06:06:30.000, deep, 2460), List(2023-11-04T06:47:30.000, light, 240), List(2023-11-04T06:51:30.000, rem, 1560), List(2023-11-04T07:17:30.000, light, 990), List(2023-11-04T07:34:00.000, wake, 330)), List(List(2023-11-03T23:29:00.000, wake, 150), List(2023-11-03T23:34:30.000, wake, 60), List(2023-11-03T23:38:00.000, wake, 60), List(2023-11-04T00:01:00.000, wake, 30), List(2023-11-04T00:04:00.000, wake, 60), List(2023-11-04T00:08:30.000, wake, 30), List(2023-11-04T00:13:30.000, wake, 30), List(2023-11-04T00:22:00.000, wake, 30), List(2023-11-04T00:37:00.000, wake, 180), List(2023-11-04T01:27:30.000, wake, 30), List(2023-11-04T02:27:30.000, wake, 30), List(2023-11-04T02:42:00.000, wake, 30), List(2023-11-04T03:03:00.000, wake, 120), List(2023-11-04T03:45:00.000, wake, 30), List(2023-11-04T04:12:00.000, wake, 30), List(2023-11-04T05:14:30.000, wake, 60), List(2023-11-04T05:33:00.000, wake, 60), List(2023-11-04T05:37:00.000, wake, 120), List(2023-11-04T05:41:30.000, wake, 30), List(2023-11-04T05:45:30.000, wake, 90), List(2023-11-04T06:46:30.000, wake, 60), List(2023-11-04T06:51:30.000, wake, 150), List(2023-11-04T06:59:00.000, wake, 30), List(2023-11-04T07:15:00.000, wake, 150), List(2023-11-04T07:20:00.000, wake, 60), List(2023-11-04T07:22:30.000, wake, 30)), List(List(4, 103, 69), List(29, 286, 236), List(10, 92, 73), List(32, 59, 63))), 43358421833, auto_detected, 1, 481, 59, 0, 2023-11-03T22:39:00.000, 540, stages)</td></tr></tbody></table></div>"
      ]
     },
     "metadata": {
      "application/vnd.databricks.v1+output": {
       "addedWidgets": {},
       "aggData": [],
       "aggError": "",
       "aggOverflow": false,
       "aggSchema": [],
       "aggSeriesLimitReached": false,
       "aggType": "",
       "arguments": {},
       "columnCustomDisplayInfos": {},
       "data": [
        [
         [
          "2023-11-04",
          32400000,
          98,
          "2023-11-04T07:39:30.000",
          0,
          true,
          [
           [
            [
             "2023-11-03T22:39:00.000",
             "wake",
             420
            ],
            [
             "2023-11-03T22:46:00.000",
             "light",
             330
            ],
            [
             "2023-11-03T22:51:30.000",
             "deep",
             2400
            ],
            [
             "2023-11-03T23:31:30.000",
             "light",
             2250
            ],
            [
             "2023-11-04T00:09:00.000",
             "rem",
             1170
            ],
            [
             "2023-11-04T00:28:30.000",
             "light",
             4230
            ],
            [
             "2023-11-04T01:39:00.000",
             "deep",
             1050
            ],
            [
             "2023-11-04T01:56:30.000",
             "light",
             60
            ],
            [
             "2023-11-04T01:57:30.000",
             "rem",
             2220
            ],
            [
             "2023-11-04T02:34:30.000",
             "light",
             3180
            ],
            [
             "2023-11-04T03:27:30.000",
             "wake",
             240
            ],
            [
             "2023-11-04T03:31:30.000",
             "light",
             300
            ],
            [
             "2023-11-04T03:36:30.000",
             "rem",
             330
            ],
            [
             "2023-11-04T03:42:00.000",
             "light",
             450
            ],
            [
             "2023-11-04T03:49:30.000",
             "wake",
             270
            ],
            [
             "2023-11-04T03:54:00.000",
             "light",
             600
            ],
            [
             "2023-11-04T04:04:00.000",
             "wake",
             300
            ],
            [
             "2023-11-04T04:09:00.000",
             "light",
             3420
            ],
            [
             "2023-11-04T05:06:00.000",
             "deep",
             450
            ],
            [
             "2023-11-04T05:13:30.000",
             "light",
             630
            ],
            [
             "2023-11-04T05:24:00.000",
             "wake",
             270
            ],
            [
             "2023-11-04T05:28:30.000",
             "rem",
             330
            ],
            [
             "2023-11-04T05:34:00.000",
             "light",
             780
            ],
            [
             "2023-11-04T05:47:00.000",
             "rem",
             420
            ],
            [
             "2023-11-04T05:54:00.000",
             "light",
             750
            ],
            [
             "2023-11-04T06:06:30.000",
             "deep",
             2460
            ],
            [
             "2023-11-04T06:47:30.000",
             "light",
             240
            ],
            [
             "2023-11-04T06:51:30.000",
             "rem",
             1560
            ],
            [
             "2023-11-04T07:17:30.000",
             "light",
             990
            ],
            [
             "2023-11-04T07:34:00.000",
             "wake",
             330
            ]
           ],
           [
            [
             "2023-11-03T23:29:00.000",
             "wake",
             150
            ],
            [
             "2023-11-03T23:34:30.000",
             "wake",
             60
            ],
            [
             "2023-11-03T23:38:00.000",
             "wake",
             60
            ],
            [
             "2023-11-04T00:01:00.000",
             "wake",
             30
            ],
            [
             "2023-11-04T00:04:00.000",
             "wake",
             60
            ],
            [
             "2023-11-04T00:08:30.000",
             "wake",
             30
            ],
            [
             "2023-11-04T00:13:30.000",
             "wake",
             30
            ],
            [
             "2023-11-04T00:22:00.000",
             "wake",
             30
            ],
            [
             "2023-11-04T00:37:00.000",
             "wake",
             180
            ],
            [
             "2023-11-04T01:27:30.000",
             "wake",
             30
            ],
            [
             "2023-11-04T02:27:30.000",
             "wake",
             30
            ],
            [
             "2023-11-04T02:42:00.000",
             "wake",
             30
            ],
            [
             "2023-11-04T03:03:00.000",
             "wake",
             120
            ],
            [
             "2023-11-04T03:45:00.000",
             "wake",
             30
            ],
            [
             "2023-11-04T04:12:00.000",
             "wake",
             30
            ],
            [
             "2023-11-04T05:14:30.000",
             "wake",
             60
            ],
            [
             "2023-11-04T05:33:00.000",
             "wake",
             60
            ],
            [
             "2023-11-04T05:37:00.000",
             "wake",
             120
            ],
            [
             "2023-11-04T05:41:30.000",
             "wake",
             30
            ],
            [
             "2023-11-04T05:45:30.000",
             "wake",
             90
            ],
            [
             "2023-11-04T06:46:30.000",
             "wake",
             60
            ],
            [
             "2023-11-04T06:51:30.000",
             "wake",
             150
            ],
            [
             "2023-11-04T06:59:00.000",
             "wake",
             30
            ],
            [
             "2023-11-04T07:15:00.000",
             "wake",
             150
            ],
            [
             "2023-11-04T07:20:00.000",
             "wake",
             60
            ],
            [
             "2023-11-04T07:22:30.000",
             "wake",
             30
            ]
           ],
           [
            [
             4,
             103,
             69
            ],
            [
             29,
             286,
             236
            ],
            [
             10,
             92,
             73
            ],
            [
             32,
             59,
             63
            ]
           ]
          ],
          43358421833,
          "auto_detected",
          1,
          481,
          59,
          0,
          "2023-11-03T22:39:00.000",
          540,
          "stages"
         ]
        ]
       ],
       "datasetInfos": [],
       "dbfsResultPath": null,
       "isJsonSchema": true,
       "metadata": {},
       "overflow": false,
       "plotOptions": {
        "customPlotOptions": {},
        "displayType": "table",
        "pivotAggregation": null,
        "pivotColumns": null,
        "xColumns": null,
        "yColumns": null
       },
       "removedWidgets": [],
       "schema": [
        {
         "metadata": "{}",
         "name": "0",
         "type": "{\"type\":\"struct\",\"fields\":[{\"name\":\"dateOfSleep\",\"type\":\"string\",\"nullable\":true,\"metadata\":{}},{\"name\":\"duration\",\"type\":\"long\",\"nullable\":true,\"metadata\":{}},{\"name\":\"efficiency\",\"type\":\"long\",\"nullable\":true,\"metadata\":{}},{\"name\":\"endTime\",\"type\":\"string\",\"nullable\":true,\"metadata\":{}},{\"name\":\"infoCode\",\"type\":\"long\",\"nullable\":true,\"metadata\":{}},{\"name\":\"isMainSleep\",\"type\":\"boolean\",\"nullable\":true,\"metadata\":{}},{\"name\":\"levels\",\"type\":{\"type\":\"struct\",\"fields\":[{\"name\":\"data\",\"type\":{\"type\":\"array\",\"elementType\":{\"type\":\"struct\",\"fields\":[{\"name\":\"dateTime\",\"type\":\"string\",\"nullable\":true,\"metadata\":{}},{\"name\":\"level\",\"type\":\"string\",\"nullable\":true,\"metadata\":{}},{\"name\":\"seconds\",\"type\":\"long\",\"nullable\":true,\"metadata\":{}}]},\"containsNull\":true},\"nullable\":true,\"metadata\":{}},{\"name\":\"shortData\",\"type\":{\"type\":\"array\",\"elementType\":{\"type\":\"struct\",\"fields\":[{\"name\":\"dateTime\",\"type\":\"string\",\"nullable\":true,\"metadata\":{}},{\"name\":\"level\",\"type\":\"string\",\"nullable\":true,\"metadata\":{}},{\"name\":\"seconds\",\"type\":\"long\",\"nullable\":true,\"metadata\":{}}]},\"containsNull\":true},\"nullable\":true,\"metadata\":{}},{\"name\":\"summary\",\"type\":{\"type\":\"struct\",\"fields\":[{\"name\":\"deep\",\"type\":{\"type\":\"struct\",\"fields\":[{\"name\":\"count\",\"type\":\"long\",\"nullable\":true,\"metadata\":{}},{\"name\":\"minutes\",\"type\":\"long\",\"nullable\":true,\"metadata\":{}},{\"name\":\"thirtyDayAvgMinutes\",\"type\":\"long\",\"nullable\":true,\"metadata\":{}}]},\"nullable\":true,\"metadata\":{}},{\"name\":\"light\",\"type\":{\"type\":\"struct\",\"fields\":[{\"name\":\"count\",\"type\":\"long\",\"nullable\":true,\"metadata\":{}},{\"name\":\"minutes\",\"type\":\"long\",\"nullable\":true,\"metadata\":{}},{\"name\":\"thirtyDayAvgMinutes\",\"type\":\"long\",\"nullable\":true,\"metadata\":{}}]},\"nullable\":true,\"metadata\":{}},{\"name\":\"rem\",\"type\":{\"type\":\"struct\",\"fields\":[{\"name\":\"count\",\"type\":\"long\",\"nullable\":true,\"metadata\":{}},{\"name\":\"minutes\",\"type\":\"long\",\"nullable\":true,\"metadata\":{}},{\"name\":\"thirtyDayAvgMinutes\",\"type\":\"long\",\"nullable\":true,\"metadata\":{}}]},\"nullable\":true,\"metadata\":{}},{\"name\":\"wake\",\"type\":{\"type\":\"struct\",\"fields\":[{\"name\":\"count\",\"type\":\"long\",\"nullable\":true,\"metadata\":{}},{\"name\":\"minutes\",\"type\":\"long\",\"nullable\":true,\"metadata\":{}},{\"name\":\"thirtyDayAvgMinutes\",\"type\":\"long\",\"nullable\":true,\"metadata\":{}}]},\"nullable\":true,\"metadata\":{}}]},\"nullable\":true,\"metadata\":{}}]},\"nullable\":true,\"metadata\":{}},{\"name\":\"logId\",\"type\":\"long\",\"nullable\":true,\"metadata\":{}},{\"name\":\"logType\",\"type\":\"string\",\"nullable\":true,\"metadata\":{}},{\"name\":\"minutesAfterWakeup\",\"type\":\"long\",\"nullable\":true,\"metadata\":{}},{\"name\":\"minutesAsleep\",\"type\":\"long\",\"nullable\":true,\"metadata\":{}},{\"name\":\"minutesAwake\",\"type\":\"long\",\"nullable\":true,\"metadata\":{}},{\"name\":\"minutesToFallAsleep\",\"type\":\"long\",\"nullable\":true,\"metadata\":{}},{\"name\":\"startTime\",\"type\":\"string\",\"nullable\":true,\"metadata\":{}},{\"name\":\"timeInBed\",\"type\":\"long\",\"nullable\":true,\"metadata\":{}},{\"name\":\"type\",\"type\":\"string\",\"nullable\":true,\"metadata\":{}}]}"
        }
       ],
       "type": "table"
      }
     },
     "output_type": "display_data"
    }
   ],
   "source": [
    "display(fitbit_sleep_log_df)"
   ]
  },
  {
   "cell_type": "markdown",
   "metadata": {
    "application/vnd.databricks.v1+cell": {
     "cellMetadata": {
      "byteLimit": 2048000,
      "rowLimit": 10000
     },
     "inputWidgets": {},
     "nuid": "7c6f6877-aed0-425a-a7dc-752bc0c572d5",
     "showTitle": false,
     "title": ""
    }
   },
   "source": [
    "Example Question:\n",
    "- What % of the time was I sleeping vs % of the time I was awake (for a given day, range of days, month, etc.)\n",
    "\n",
    "Calculate sleeping efficiency using **minutesAwake vs. minutesAsleep**"
   ]
  },
  {
   "cell_type": "code",
   "execution_count": 0,
   "metadata": {
    "application/vnd.databricks.v1+cell": {
     "cellMetadata": {
      "byteLimit": 2048000,
      "rowLimit": 10000
     },
     "inputWidgets": {},
     "nuid": "8611b0a9-e9ba-4ddf-9d1f-a6ea967c3254",
     "showTitle": false,
     "title": ""
    }
   },
   "outputs": [
    {
     "output_type": "stream",
     "name": "stdout",
     "output_type": "stream",
     "text": [
      "Percent Asleep: 89.07%\nPercent Awake: 10.93%\n"
     ]
    }
   ],
   "source": [
    "first_row = fitbit_sleep_log_df.collect()[0]\n",
    "\n",
    "minutes_awake = first_row[0]['minutesAwake']\n",
    "minutes_asleep = first_row[0]['minutesAsleep']\n",
    "\n",
    "total_time = minutes_asleep + minutes_awake\n",
    "percent_asleep = (minutes_asleep / total_time) * 100\n",
    "percent_awake = (minutes_awake / total_time) * 100\n",
    "\n",
    "print(\"Percent Asleep: {:.2f}%\".format(percent_asleep))\n",
    "print(\"Percent Awake: {:.2f}%\".format(percent_awake))"
   ]
  },
  {
   "cell_type": "markdown",
   "metadata": {
    "application/vnd.databricks.v1+cell": {
     "cellMetadata": {
      "byteLimit": 2048000,
      "rowLimit": 10000
     },
     "inputWidgets": {},
     "nuid": "4fd4220f-bf4b-4f45-b924-d4f7c7cb889c",
     "showTitle": false,
     "title": ""
    }
   },
   "source": [
    "Plot it, show a simple stacked bar chart"
   ]
  },
  {
   "cell_type": "code",
   "execution_count": 0,
   "metadata": {
    "application/vnd.databricks.v1+cell": {
     "cellMetadata": {
      "byteLimit": 2048000,
      "rowLimit": 10000
     },
     "inputWidgets": {},
     "nuid": "e252ca9f-c3d3-4ab9-a6f1-cc2385570dbb",
     "showTitle": false,
     "title": ""
    }
   },
   "outputs": [
    {
     "output_type": "display_data",
     "data": {
      "image/png": "[encoded data removed]",
      "text/plain": [
       "<Figure size 600x800 with 1 Axes>"
      ]
     },
     "metadata": {},
     "output_type": "display_data"
    }
   ],
   "source": [
    "# Initialize the plot\n",
    "plt.figure(figsize=(6, 8))\n",
    "plt.title('Sleeping Efficiency \\U0001F634')\n",
    "plt.ylabel('Percentage of Time')\n",
    "\n",
    "# Plot the bars\n",
    "bar1 = plt.bar(['Sleep'], [percent_asleep], color='tab:blue', label='Asleep')\n",
    "bar2 = plt.bar(['Sleep'], [percent_awake], bottom=[percent_asleep], color='salmon', label='Awake')\n",
    "\n",
    "# Get height of the bars\n",
    "height1 = bar1[0].get_height()\n",
    "height2 = bar2[0].get_height()\n",
    "\n",
    "# Add labels on top of the bars with center alignment\n",
    "plt.text(x=0, y=height1/2, s='{:.0f}%'.format(percent_asleep), ha='center', va='center')\n",
    "plt.text(x=0, y=height1+height2/2, s='{:.0f}%'.format(percent_awake), ha='center', va='center')\n",
    "\n",
    "# Show the chart\n",
    "plt.legend(loc='upper center', bbox_to_anchor=[0.5, 1.15], ncol=2)\n",
    "plt.show()"
   ]
  },
  {
   "cell_type": "code",
   "execution_count": 0,
   "metadata": {
    "application/vnd.databricks.v1+cell": {
     "cellMetadata": {
      "byteLimit": 2048000,
      "rowLimit": 10000
     },
     "inputWidgets": {},
     "nuid": "05c6e0db-55ef-428f-880c-aa44fce2199b",
     "showTitle": false,
     "title": ""
    }
   },
   "outputs": [
    {
     "output_type": "display_data",
     "data": {
      "text/html": [
       "<style scoped>\n",
       "  .table-result-container {\n",
       "    max-height: 300px;\n",
       "    overflow: auto;\n",
       "  }\n",
       "  table, th, td {\n",
       "    border: 1px solid black;\n",
       "    border-collapse: collapse;\n",
       "  }\n",
       "  th, td {\n",
       "    padding: 5px;\n",
       "  }\n",
       "  th {\n",
       "    text-align: left;\n",
       "  }\n",
       "</style><div class='table-result-container'><table class='table-result'><thead style='background-color: white'><tr><th>activeZoneMinutes</th><th>activityLevels</th><th>calories</th><th>customHeartRateZones</th><th>distance</th><th>elevation</th><th>floors</th><th>heartRateZones</th><th>steps</th></tr></thead><tbody><tr><td>6</td><td>[{'distance': 0, 'minutes': 611, 'name': 'sedentary'}, {'distance': 0.95, 'minutes': 61, 'name': 'lightly'}, {'distance': 0, 'minutes': 0, 'name': 'moderately'}, {'distance': 0, 'minutes': 0, 'name': 'very'}]</td><td>{'bmr': 1369, 'total': 1606}</td><td>[]</td><td>0.95</td><td>0</td><td>0</td><td>[{'caloriesOut': 1556.4872699999999, 'max': 105, 'min': 30, 'minutes': 1434, 'name': 'Out of Range'}, {'caloriesOut': 49.82562, 'max': 132, 'min': 105, 'minutes': 6, 'name': 'Fat Burn'}, {'caloriesOut': 0, 'max': 165, 'min': 132, 'minutes': 0, 'name': 'Cardio'}, {'caloriesOut': 0, 'max': 220, 'min': 165, 'minutes': 0, 'name': 'Peak'}]</td><td>1276</td></tr></tbody></table></div>"
      ]
     },
     "metadata": {
      "application/vnd.databricks.v1+output": {
       "addedWidgets": {},
       "aggData": [],
       "aggError": "",
       "aggOverflow": false,
       "aggSchema": [],
       "aggSeriesLimitReached": false,
       "aggType": "",
       "arguments": {},
       "columnCustomDisplayInfos": {},
       "data": [
        [
         "6",
         "[{'distance': 0, 'minutes': 611, 'name': 'sedentary'}, {'distance': 0.95, 'minutes': 61, 'name': 'lightly'}, {'distance': 0, 'minutes': 0, 'name': 'moderately'}, {'distance': 0, 'minutes': 0, 'name': 'very'}]",
         "{'bmr': 1369, 'total': 1606}",
         "[]",
         "0.95",
         "0",
         "0",
         "[{'caloriesOut': 1556.4872699999999, 'max': 105, 'min': 30, 'minutes': 1434, 'name': 'Out of Range'}, {'caloriesOut': 49.82562, 'max': 132, 'min': 105, 'minutes': 6, 'name': 'Fat Burn'}, {'caloriesOut': 0, 'max': 165, 'min': 132, 'minutes': 0, 'name': 'Cardio'}, {'caloriesOut': 0, 'max': 220, 'min': 165, 'minutes': 0, 'name': 'Peak'}]",
         "1276"
        ]
       ],
       "datasetInfos": [],
       "dbfsResultPath": null,
       "isJsonSchema": true,
       "metadata": {},
       "overflow": false,
       "plotOptions": {
        "customPlotOptions": {},
        "displayType": "table",
        "pivotAggregation": null,
        "pivotColumns": null,
        "xColumns": null,
        "yColumns": null
       },
       "removedWidgets": [],
       "schema": [
        {
         "metadata": "{}",
         "name": "activeZoneMinutes",
         "type": "\"string\""
        },
        {
         "metadata": "{}",
         "name": "activityLevels",
         "type": "\"string\""
        },
        {
         "metadata": "{}",
         "name": "calories",
         "type": "\"string\""
        },
        {
         "metadata": "{}",
         "name": "customHeartRateZones",
         "type": "\"string\""
        },
        {
         "metadata": "{}",
         "name": "distance",
         "type": "\"string\""
        },
        {
         "metadata": "{}",
         "name": "elevation",
         "type": "\"string\""
        },
        {
         "metadata": "{}",
         "name": "floors",
         "type": "\"string\""
        },
        {
         "metadata": "{}",
         "name": "heartRateZones",
         "type": "\"string\""
        },
        {
         "metadata": "{}",
         "name": "steps",
         "type": "\"string\""
        }
       ],
       "type": "table"
      }
     },
     "output_type": "display_data"
    }
   ],
   "source": [
    "display(fitbit_daily_activity_df)"
   ]
  },
  {
   "cell_type": "code",
   "execution_count": 0,
   "metadata": {
    "application/vnd.databricks.v1+cell": {
     "cellMetadata": {
      "byteLimit": 2048000,
      "rowLimit": 10000
     },
     "inputWidgets": {},
     "nuid": "5396da68-ead0-44d4-b392-3f7dcfb59d35",
     "showTitle": false,
     "title": ""
    }
   },
   "outputs": [
    {
     "output_type": "display_data",
     "data": {
      "text/html": [
       "<style scoped>\n",
       "  .table-result-container {\n",
       "    max-height: 300px;\n",
       "    overflow: auto;\n",
       "  }\n",
       "  table, th, td {\n",
       "    border: 1px solid black;\n",
       "    border-collapse: collapse;\n",
       "  }\n",
       "  th, td {\n",
       "    padding: 5px;\n",
       "  }\n",
       "  th {\n",
       "    text-align: left;\n",
       "  }\n",
       "</style><div class='table-result-container'><table class='table-result'><thead style='background-color: white'><tr><th>age</th><th>ambassador</th><th>autoStrideEnabled</th><th>avatar</th><th>avatar150</th><th>avatar640</th><th>averageDailySteps</th><th>challengesBeta</th><th>clockTimeDisplayFormat</th><th>corporate</th><th>corporateAdmin</th><th>dateOfBirth</th><th>displayName</th><th>displayNameSetting</th><th>distanceUnit</th><th>encodedId</th><th>features</th><th>firstName</th><th>foodsLocale</th><th>fullName</th><th>gender</th><th>glucoseUnit</th><th>height</th><th>heightUnit</th><th>isBugReportEnabled</th><th>isChild</th><th>isCoach</th><th>languageLocale</th><th>lastName</th><th>legalTermsAcceptRequired</th><th>locale</th><th>memberSince</th><th>mfaEnabled</th><th>offsetFromUTCMillis</th><th>phoneNumber</th><th>sdkDeveloper</th><th>sleepTracking</th><th>startDayOfWeek</th><th>strideLengthRunning</th><th>strideLengthRunningType</th><th>strideLengthWalking</th><th>strideLengthWalkingType</th><th>swimUnit</th><th>temperatureUnit</th><th>timezone</th><th>topBadges</th><th>visibleUser</th><th>waterUnit</th><th>waterUnitName</th><th>weight</th><th>weightUnit</th></tr></thead><tbody><tr><td>34</td><td>False</td><td>True</td><td>https://static0.fitbit.com/images/profile/defaultProfile_100.png</td><td>https://static0.fitbit.com/images/profile/defaultProfile_150.png</td><td>https://static0.fitbit.com/images/profile/defaultProfile_640.png</td><td>4543</td><td>True</td><td>24hour</td><td>False</td><td>False</td><td>1989-09-16</td><td>Health F.</td><td>name</td><td>en_US</td><td>9M4W75</td><td>{'exerciseGoal': True}</td><td>Health</td><td>en_US</td><td>Health Fitness</td><td>MALE</td><td>en_US</td><td>180.3</td><td>en_US</td><td>False</td><td>False</td><td>False</td><td>en_US</td><td>Fitness</td><td>False</td><td>en_US</td><td>2021-09-26</td><td>True</td><td>-21600000</td><td>+17014918492</td><td>False</td><td>Normal</td><td>SUNDAY</td><td>110.4</td><td>auto</td><td>74.8</td><td>auto</td><td>en_US</td><td>en_US</td><td>America/Chicago</td><td>\"[{'badgeGradientEndColor': 'FFDB01', 'badgeGradientStartColor': 'D99123', 'badgeType': 'DAILY_STEPS', 'category': 'Daily Steps', 'cheers': [], 'dateTime': '2023-10-15', 'description': '25,000 steps in a day', 'earnedMessage': 'Congrats on earning your first Classics badge!', 'encodedId': '228TLX', 'image100px': 'https://www.gstatic.com/fitbit/badge/images/badges_new/100px/badge_daily_steps25k.png', 'image125px': 'https://www.gstatic.com/fitbit/badge/images/badges_new/125px/badge_daily_steps25k.png', 'image300px': 'https://www.gstatic.com/fitbit/badge/images/badges_new/300px/badge_daily_steps25k.png', 'image50px': 'https://www.gstatic.com/fitbit/badge/images/badges_new/badge_daily_steps25k.png', 'image75px': 'https://www.gstatic.com/fitbit/badge/images/badges_new/75px/badge_daily_steps25k.png', 'marketingDescription': \"\"You've walked 25</td><td>000 steps  And earned the Classics badge!\"\"</td><td> 'mobileDescription': \"\"With this impressive fitness feat</td><td> you've added a badge to your growing collection. Nice job</td><td> you stepping all-star!\"\"</td><td> 'name': 'Classics (25</td></tr></tbody></table></div>"
      ]
     },
     "metadata": {
      "application/vnd.databricks.v1+output": {
       "addedWidgets": {},
       "aggData": [],
       "aggError": "",
       "aggOverflow": false,
       "aggSchema": [],
       "aggSeriesLimitReached": false,
       "aggType": "",
       "arguments": {},
       "columnCustomDisplayInfos": {},
       "data": [
        [
         "34",
         "False",
         "True",
         "https://static0.fitbit.com/images/profile/defaultProfile_100.png",
         "https://static0.fitbit.com/images/profile/defaultProfile_150.png",
         "https://static0.fitbit.com/images/profile/defaultProfile_640.png",
         "4543",
         "True",
         "24hour",
         "False",
         "False",
         "1989-09-16",
         "Health F.",
         "name",
         "en_US",
         "9M4W75",
         "{'exerciseGoal': True}",
         "Health",
         "en_US",
         "Health Fitness",
         "MALE",
         "en_US",
         "180.3",
         "en_US",
         "False",
         "False",
         "False",
         "en_US",
         "Fitness",
         "False",
         "en_US",
         "2021-09-26",
         "True",
         "-21600000",
         "+17014918492",
         "False",
         "Normal",
         "SUNDAY",
         "110.4",
         "auto",
         "74.8",
         "auto",
         "en_US",
         "en_US",
         "America/Chicago",
         "\"[{'badgeGradientEndColor': 'FFDB01', 'badgeGradientStartColor': 'D99123', 'badgeType': 'DAILY_STEPS', 'category': 'Daily Steps', 'cheers': [], 'dateTime': '2023-10-15', 'description': '25,000 steps in a day', 'earnedMessage': 'Congrats on earning your first Classics badge!', 'encodedId': '228TLX', 'image100px': 'https://www.gstatic.com/fitbit/badge/images/badges_new/100px/badge_daily_steps25k.png', 'image125px': 'https://www.gstatic.com/fitbit/badge/images/badges_new/125px/badge_daily_steps25k.png', 'image300px': 'https://www.gstatic.com/fitbit/badge/images/badges_new/300px/badge_daily_steps25k.png', 'image50px': 'https://www.gstatic.com/fitbit/badge/images/badges_new/badge_daily_steps25k.png', 'image75px': 'https://www.gstatic.com/fitbit/badge/images/badges_new/75px/badge_daily_steps25k.png', 'marketingDescription': \"\"You've walked 25",
         "000 steps  And earned the Classics badge!\"\"",
         " 'mobileDescription': \"\"With this impressive fitness feat",
         " you've added a badge to your growing collection. Nice job",
         " you stepping all-star!\"\"",
         " 'name': 'Classics (25"
        ]
       ],
       "datasetInfos": [],
       "dbfsResultPath": null,
       "isJsonSchema": true,
       "metadata": {},
       "overflow": false,
       "plotOptions": {
        "customPlotOptions": {},
        "displayType": "table",
        "pivotAggregation": null,
        "pivotColumns": null,
        "xColumns": null,
        "yColumns": null
       },
       "removedWidgets": [],
       "schema": [
        {
         "metadata": "{}",
         "name": "age",
         "type": "\"string\""
        },
        {
         "metadata": "{}",
         "name": "ambassador",
         "type": "\"string\""
        },
        {
         "metadata": "{}",
         "name": "autoStrideEnabled",
         "type": "\"string\""
        },
        {
         "metadata": "{}",
         "name": "avatar",
         "type": "\"string\""
        },
        {
         "metadata": "{}",
         "name": "avatar150",
         "type": "\"string\""
        },
        {
         "metadata": "{}",
         "name": "avatar640",
         "type": "\"string\""
        },
        {
         "metadata": "{}",
         "name": "averageDailySteps",
         "type": "\"string\""
        },
        {
         "metadata": "{}",
         "name": "challengesBeta",
         "type": "\"string\""
        },
        {
         "metadata": "{}",
         "name": "clockTimeDisplayFormat",
         "type": "\"string\""
        },
        {
         "metadata": "{}",
         "name": "corporate",
         "type": "\"string\""
        },
        {
         "metadata": "{}",
         "name": "corporateAdmin",
         "type": "\"string\""
        },
        {
         "metadata": "{}",
         "name": "dateOfBirth",
         "type": "\"string\""
        },
        {
         "metadata": "{}",
         "name": "displayName",
         "type": "\"string\""
        },
        {
         "metadata": "{}",
         "name": "displayNameSetting",
         "type": "\"string\""
        },
        {
         "metadata": "{}",
         "name": "distanceUnit",
         "type": "\"string\""
        },
        {
         "metadata": "{}",
         "name": "encodedId",
         "type": "\"string\""
        },
        {
         "metadata": "{}",
         "name": "features",
         "type": "\"string\""
        },
        {
         "metadata": "{}",
         "name": "firstName",
         "type": "\"string\""
        },
        {
         "metadata": "{}",
         "name": "foodsLocale",
         "type": "\"string\""
        },
        {
         "metadata": "{}",
         "name": "fullName",
         "type": "\"string\""
        },
        {
         "metadata": "{}",
         "name": "gender",
         "type": "\"string\""
        },
        {
         "metadata": "{}",
         "name": "glucoseUnit",
         "type": "\"string\""
        },
        {
         "metadata": "{}",
         "name": "height",
         "type": "\"string\""
        },
        {
         "metadata": "{}",
         "name": "heightUnit",
         "type": "\"string\""
        },
        {
         "metadata": "{}",
         "name": "isBugReportEnabled",
         "type": "\"string\""
        },
        {
         "metadata": "{}",
         "name": "isChild",
         "type": "\"string\""
        },
        {
         "metadata": "{}",
         "name": "isCoach",
         "type": "\"string\""
        },
        {
         "metadata": "{}",
         "name": "languageLocale",
         "type": "\"string\""
        },
        {
         "metadata": "{}",
         "name": "lastName",
         "type": "\"string\""
        },
        {
         "metadata": "{}",
         "name": "legalTermsAcceptRequired",
         "type": "\"string\""
        },
        {
         "metadata": "{}",
         "name": "locale",
         "type": "\"string\""
        },
        {
         "metadata": "{}",
         "name": "memberSince",
         "type": "\"string\""
        },
        {
         "metadata": "{}",
         "name": "mfaEnabled",
         "type": "\"string\""
        },
        {
         "metadata": "{}",
         "name": "offsetFromUTCMillis",
         "type": "\"string\""
        },
        {
         "metadata": "{}",
         "name": "phoneNumber",
         "type": "\"string\""
        },
        {
         "metadata": "{}",
         "name": "sdkDeveloper",
         "type": "\"string\""
        },
        {
         "metadata": "{}",
         "name": "sleepTracking",
         "type": "\"string\""
        },
        {
         "metadata": "{}",
         "name": "startDayOfWeek",
         "type": "\"string\""
        },
        {
         "metadata": "{}",
         "name": "strideLengthRunning",
         "type": "\"string\""
        },
        {
         "metadata": "{}",
         "name": "strideLengthRunningType",
         "type": "\"string\""
        },
        {
         "metadata": "{}",
         "name": "strideLengthWalking",
         "type": "\"string\""
        },
        {
         "metadata": "{}",
         "name": "strideLengthWalkingType",
         "type": "\"string\""
        },
        {
         "metadata": "{}",
         "name": "swimUnit",
         "type": "\"string\""
        },
        {
         "metadata": "{}",
         "name": "temperatureUnit",
         "type": "\"string\""
        },
        {
         "metadata": "{}",
         "name": "timezone",
         "type": "\"string\""
        },
        {
         "metadata": "{}",
         "name": "topBadges",
         "type": "\"string\""
        },
        {
         "metadata": "{}",
         "name": "visibleUser",
         "type": "\"string\""
        },
        {
         "metadata": "{}",
         "name": "waterUnit",
         "type": "\"string\""
        },
        {
         "metadata": "{}",
         "name": "waterUnitName",
         "type": "\"string\""
        },
        {
         "metadata": "{}",
         "name": "weight",
         "type": "\"string\""
        },
        {
         "metadata": "{}",
         "name": "weightUnit",
         "type": "\"string\""
        }
       ],
       "type": "table"
      }
     },
     "output_type": "display_data"
    }
   ],
   "source": [
    "display(fitbit_user_profile_df)"
   ]
  },
  {
   "cell_type": "markdown",
   "metadata": {
    "application/vnd.databricks.v1+cell": {
     "cellMetadata": {
      "byteLimit": 2048000,
      "rowLimit": 10000
     },
     "inputWidgets": {},
     "nuid": "831f868d-4677-4ff4-82d6-ce0d25ac6c28",
     "showTitle": false,
     "title": ""
    }
   },
   "source": [
    "# Display Hevy data\n",
    "One row = one workout\n",
    "\n",
    "2 most important metrics:\n",
    "- duration (how long training session)\n",
    "- estimated_volume_kg (how much total weight lifted)"
   ]
  },
  {
   "cell_type": "code",
   "execution_count": 0,
   "metadata": {
    "application/vnd.databricks.v1+cell": {
     "cellMetadata": {
      "byteLimit": 2048000,
      "rowLimit": 10000
     },
     "inputWidgets": {},
     "nuid": "0dffdccd-e320-4180-9982-8e90686c029e",
     "showTitle": false,
     "title": ""
    }
   },
   "outputs": [
    {
     "output_type": "display_data",
     "data": {
      "text/html": [
       "<style scoped>\n",
       "  .table-result-container {\n",
       "    max-height: 300px;\n",
       "    overflow: auto;\n",
       "  }\n",
       "  table, th, td {\n",
       "    border: 1px solid black;\n",
       "    border-collapse: collapse;\n",
       "  }\n",
       "  th, td {\n",
       "    padding: 5px;\n",
       "  }\n",
       "  th {\n",
       "    text-align: left;\n",
       "  }\n",
       "</style><div class='table-result-container'><table class='table-result'><thead style='background-color: white'><tr><th>id</th><th>short_id</th><th>index</th><th>name</th><th>description</th><th>start_time</th><th>end_time</th><th>created_at</th><th>updated_at</th><th>routine_id</th><th>apple_watch</th><th>user_id</th><th>username</th><th>profile_image</th><th>verified</th><th>nth_workout</th><th>like_count</th><th>is_liked_by_user</th><th>is_private</th><th>like_images</th><th>comments</th><th>comment_count</th><th>media</th><th>image_urls</th><th>exercises</th><th>estimated_volume_kg</th></tr></thead><tbody><tr><td>c02ee31b-e638-4baf-b6a2-262910dff221</td><td>MdLpC7ruF1Z</td><td>30426659</td><td>COD & Lower Focus</td><td>RPE 4, isos hardest</td><td>1698717635</td><td>1698719486</td><td>2023-10-31T02:31:14.152Z</td><td>2023-10-31T02:32:24.874Z</td><td>f58c7b50-d6b9-4d7c-9baf-d5b566eec9df</td><td>True</td><td>c36b0a00-49d2-414a-9c70-e549f9cf3b46</td><td>healthfitnessgains</td><td>null</td><td>False</td><td>1</td><td>0</td><td>False</td><td>True</td><td>[]</td><td>[{'id': 1214979, 'username': 'healthfitnessgains', 'verified': False, 'comment': 'RPE 4', 'created_at': '2023-10-31T02:32:04.244Z'}]</td><td>1</td><td>[{'type': 'image', 'url': 'https://d2l9nsnmtah87f.cloudfront.net/profile-images/healthfitnessgains-85ac1649-0b13-4981-9216-29b7ebc892db.jpg'}]</td><td>['https://d2l9nsnmtah87f.cloudfront.net/profile-images/healthfitnessgains-85ac1649-0b13-4981-9216-29b7ebc892db.jpg']</td><td>[{'id': '0f094543-9c86-487a-9fd5-979f0199570a', 'title': 'SL Overcoming ISO Drives (Fwd/Bkwd/Lat)', 'es_title': None, 'de_title': None, 'fr_title': None, 'it_title': None, 'pt_title': None, 'ko_title': None, 'ja_title': None, 'tr_title': None, 'ru_title': None, 'zh_cn_title': None, 'zh_tw_title': None, 'superset_id': None, 'rest_seconds': 30, 'notes': '', 'exercise_template_id': '5d5c8884-3ef4-4a5f-a59a-652bb6bc9a26', 'exercise_type': 'duration', 'equipment_category': 'barbell', 'custom_exercise_image_url': None, 'custom_exercise_image_thumbnail_url': None, 'thumbnail_url': None, 'muscle_group': 'glutes', 'other_muscles': ['calves', 'hamstrings', 'quadriceps'], 'priority': 10, 'sets': [{'id': '691510856', 'index': 0, 'indicator': 'normal', 'weight_kg': None, 'reps': None, 'distance_meters': None, 'duration_seconds': 5, 'rpe': None, 'prs': [], 'personalRecords': []}, {'id': '691510857', 'index': 1, 'indicator': 'normal', 'weight_kg': None, 'reps': None, 'distance_meters': None, 'duration_seconds': 5, 'rpe': None, 'prs': [], 'personalRecords': []}, {'id': '691510858', 'index': 2, 'indicator': 'normal', 'weight_kg': None, 'reps': None, 'distance_meters': None, 'duration_seconds': 5, 'rpe': None, 'prs': [], 'personalRecords': []}, {'id': '691510859', 'index': 3, 'indicator': 'normal', 'weight_kg': None, 'reps': None, 'distance_meters': None, 'duration_seconds': 5, 'rpe': None, 'prs': [], 'personalRecords': []}, {'id': '691510860', 'index': 4, 'indicator': 'normal', 'weight_kg': None, 'reps': None, 'distance_meters': None, 'duration_seconds': 5, 'rpe': None, 'prs': [], 'personalRecords': []}, {'id': '691510861', 'index': 5, 'indicator': 'normal', 'weight_kg': None, 'reps': None, 'distance_meters': None, 'duration_seconds': 8, 'rpe': None, 'prs': [], 'personalRecords': []}]}, {'id': 'f0460336-330c-4033-afa4-a92422868aa5', 'title': 'Single Leg Lateral Bounds + Stick (Reactive)', 'es_title': None, 'de_title': None, 'fr_title': None, 'it_title': None, 'pt_title': None, 'ko_title': None, 'ja_title': None, 'tr_title': None, 'ru_title': None, 'zh_cn_title': None, 'zh_tw_title': None, 'superset_id': None, 'rest_seconds': 30, 'notes': '', 'exercise_template_id': 'dca4bc00-3f27-452a-a46b-c052ebfcc14b', 'exercise_type': 'reps_only', 'equipment_category': 'none', 'custom_exercise_image_url': None, 'custom_exercise_image_thumbnail_url': None, 'thumbnail_url': None, 'muscle_group': 'glutes', 'other_muscles': ['quadriceps', 'calves'], 'priority': 10, 'sets': [{'id': '691510862', 'index': 0, 'indicator': 'normal', 'weight_kg': None, 'reps': 5, 'distance_meters': None, 'duration_seconds': None, 'rpe': None, 'prs': [], 'personalRecords': []}, {'id': '691510863', 'index': 1, 'indicator': 'normal', 'weight_kg': None, 'reps': 5, 'distance_meters': None, 'duration_seconds': None, 'rpe': None, 'prs': [], 'personalRecords': []}, {'id': '691510864', 'index': 2, 'indicator': 'normal', 'weight_kg': None, 'reps': 5, 'distance_meters': None, 'duration_seconds': None, 'rpe': None, 'prs': [], 'personalRecords': []}]}, {'id': '5050c74a-6bb3-4baf-9585-e889d23e1c5f', 'title': 'Pro Agility (5/10/5 Yard)', 'es_title': None, 'de_title': None, 'fr_title': None, 'it_title': None, 'pt_title': None, 'ko_title': None, 'ja_title': None, 'tr_title': None, 'ru_title': None, 'zh_cn_title': None, 'zh_tw_title': None, 'superset_id': None, 'rest_seconds': 0, 'notes': '', 'exercise_template_id': 'baf6d73d-4d0b-40a4-91de-c422602d5f78', 'exercise_type': 'reps_only', 'equipment_category': 'none', 'custom_exercise_image_url': None, 'custom_exercise_image_thumbnail_url': None, 'thumbnail_url': None, 'muscle_group': 'hamstrings', 'other_muscles': ['calves', 'abductors', 'quadriceps'], 'priority': 10, 'sets': [{'id': '691510865', 'index': 0, 'indicator': 'normal', 'weight_kg': None, 'reps': 1, 'distance_meters': None, 'duration_seconds': None, 'rpe': None, 'prs': [], 'personalRecords': []}, {'id': '691510866', 'index': 1, 'indicator': 'normal', 'weight_kg': None, 'reps': 1, 'distance_meters': None, 'duration_seconds': None, 'rpe': None, 'prs': [], 'personalRecords': []}]}]</td><td>0.0</td></tr><tr><td>4b1cdb2b-b2a9-4d38-9b4b-3e8b7a00544d</td><td>2vdp6XvjEca</td><td>30716596</td><td>Primary Lower</td><td>Solid, RPE 4, only one set of squats felts weird on right hamstring, worked thru it no issues</td><td>1698969805</td><td>1698972145</td><td>2023-11-03T00:41:31.026Z</td><td>2023-11-03T00:43:37.160Z</td><td>ed66435a-2e25-44bc-8fa4-47856bb4e59d</td><td>True</td><td>c36b0a00-49d2-414a-9c70-e549f9cf3b46</td><td>healthfitnessgains</td><td>null</td><td>False</td><td>2</td><td>0</td><td>False</td><td>False</td><td>[]</td><td>[]</td><td>0</td><td>[{'type': 'image', 'url': 'https://d2l9nsnmtah87f.cloudfront.net/profile-images/healthfitnessgains-19bdaec1-2b43-4c3f-925f-05f20450b808.jpg'}]</td><td>['https://d2l9nsnmtah87f.cloudfront.net/profile-images/healthfitnessgains-19bdaec1-2b43-4c3f-925f-05f20450b808.jpg']</td><td>[{'id': '8e638335-780f-4e40-8175-a2a57e6ac1af', 'title': 'Concentric Only Pin Squat', 'es_title': None, 'de_title': None, 'fr_title': None, 'it_title': None, 'pt_title': None, 'ko_title': None, 'ja_title': None, 'tr_title': None, 'ru_title': None, 'zh_cn_title': None, 'zh_tw_title': None, 'superset_id': None, 'rest_seconds': 120, 'notes': '', 'exercise_template_id': 'b6a2df34-fdbe-4812-b22e-09084519d165', 'exercise_type': 'weight_reps', 'equipment_category': 'barbell', 'custom_exercise_image_url': None, 'custom_exercise_image_thumbnail_url': None, 'thumbnail_url': None, 'muscle_group': 'quadriceps', 'other_muscles': ['glutes', 'calves', 'hamstrings'], 'priority': 10, 'sets': [{'id': '697871972', 'index': 0, 'indicator': 'normal', 'weight_kg': 29.483539113316585, 'reps': 10, 'distance_meters': None, 'duration_seconds': None, 'rpe': None, 'prs': [], 'personalRecords': []}, {'id': '697871973', 'index': 1, 'indicator': 'normal', 'weight_kg': 56.69911367945497, 'reps': 8, 'distance_meters': None, 'duration_seconds': None, 'rpe': None, 'prs': [], 'personalRecords': []}, {'id': '697871974', 'index': 2, 'indicator': 'normal', 'weight_kg': 61.235042773811365, 'reps': 3, 'distance_meters': None, 'duration_seconds': None, 'rpe': None, 'prs': [], 'personalRecords': []}, {'id': '697871975', 'index': 3, 'indicator': 'normal', 'weight_kg': 61.235042773811365, 'reps': 3, 'distance_meters': None, 'duration_seconds': None, 'rpe': None, 'prs': [], 'personalRecords': []}, {'id': '697871976', 'index': 4, 'indicator': 'normal', 'weight_kg': 61.235042773811365, 'reps': 3, 'distance_meters': None, 'duration_seconds': None, 'rpe': None, 'prs': [], 'personalRecords': []}]}, {'id': 'fe0b4ca8-ac34-41e3-aeb7-339d3922daad', 'title': 'Seated DB Jump, Band Assisted Pogo to Tuck', 'es_title': None, 'de_title': None, 'fr_title': None, 'it_title': None, 'pt_title': None, 'ko_title': None, 'ja_title': None, 'tr_title': None, 'ru_title': None, 'zh_cn_title': None, 'zh_tw_title': None, 'superset_id': None, 'rest_seconds': 0, 'notes': 'Add weights to this. Did 15lb dbs, rpe 5', 'exercise_template_id': '646ec9de-e5cd-4bcf-a1ec-d5b9e595b0ba', 'exercise_type': 'reps_only', 'equipment_category': 'barbell', 'custom_exercise_image_url': None, 'custom_exercise_image_thumbnail_url': None, 'thumbnail_url': None, 'muscle_group': 'full_body', 'other_muscles': [], 'priority': 10, 'sets': [{'id': '697871977', 'index': 0, 'indicator': 'normal', 'weight_kg': None, 'reps': 3, 'distance_meters': None, 'duration_seconds': None, 'rpe': None, 'prs': [], 'personalRecords': []}, {'id': '697871978', 'index': 1, 'indicator': 'normal', 'weight_kg': None, 'reps': 3, 'distance_meters': None, 'duration_seconds': None, 'rpe': None, 'prs': [], 'personalRecords': []}, {'id': '697871979', 'index': 2, 'indicator': 'normal', 'weight_kg': None, 'reps': 3, 'distance_meters': None, 'duration_seconds': None, 'rpe': None, 'prs': [], 'personalRecords': []}]}, {'id': 'a8efb5ef-afe2-4c8f-a7b4-a0ab62c13a7e', 'title': 'Active Recovery (AR): Wall Beach Slides', 'es_title': None, 'de_title': None, 'fr_title': None, 'it_title': None, 'pt_title': None, 'ko_title': None, 'ja_title': None, 'tr_title': None, 'ru_title': None, 'zh_cn_title': None, 'zh_tw_title': None, 'superset_id': None, 'rest_seconds': 0, 'notes': '', 'exercise_template_id': '77f5474c-e508-4bff-9548-09d0227cb44f', 'exercise_type': 'reps_only', 'equipment_category': 'other', 'custom_exercise_image_url': None, 'custom_exercise_image_thumbnail_url': None, 'thumbnail_url': None, 'muscle_group': 'full_body', 'other_muscles': [], 'priority': 10, 'sets': [{'id': '697871980', 'index': 0, 'indicator': 'normal', 'weight_kg': None, 'reps': 5, 'distance_meters': None, 'duration_seconds': None, 'rpe': None, 'prs': [], 'personalRecords': []}]}, {'id': 'b4eca2a7-252f-46b9-a303-3460aedfae90', 'title': 'Active Recovery (AR): Blackburns shoulders', 'es_title': None, 'de_title': None, 'fr_title': None, 'it_title': None, 'pt_title': None, 'ko_title': None, 'ja_title': None, 'tr_title': None, 'ru_title': None, 'zh_cn_title': None, 'zh_tw_title': None, 'superset_id': None, 'rest_seconds': 0, 'notes': '', 'exercise_template_id': '6685785d-5aa8-4592-bcd6-f6cdab7247cf', 'exercise_type': 'reps_only', 'equipment_category': 'none', 'custom_exercise_image_url': None, 'custom_exercise_image_thumbnail_url': None, 'thumbnail_url': None, 'muscle_group': 'shoulders', 'other_muscles': [], 'priority': 10, 'sets': [{'id': '697871981', 'index': 0, 'indicator': 'normal', 'weight_kg': None, 'reps': 5, 'distance_meters': None, 'duration_seconds': None, 'rpe': None, 'prs': [], 'personalRecords': []}]}, {'id': '228f5231-a97b-4ca8-9f44-51b3b9366223', 'title': 'Pull Up (Assisted)', 'es_title': 'Dominada (Asistida)', 'de_title': 'Klimmzüge (Unterstützt)', 'fr_title': 'Traction (Assistée)', 'it_title': 'Trazione (Assistita)', 'pt_title': 'Barra Fixa no Graviton (Máquina)', 'ko_title': '풀 업 (어시스트)', 'ja_title': 'プルアップ\\u3000(アシスト付き)', 'tr_title': 'Makine Barfiks (Destekli)', 'ru_title': 'Подтягивания (С помощью)', 'zh_cn_title': '引体向上 （辅助）', 'zh_tw_title': '引體向上 （輔助）', 'superset_id': None, 'rest_seconds': 0, 'notes': '', 'exercise_template_id': '2C37EC5E', 'url': 'https://pump-app.s3.eu-west-2.amazonaws.com/exercise-assets/00171201-Assisted-Pull-up_Back.mp4', 'exercise_type': 'bodyweight_assisted_reps', 'equipment_category': 'machine', 'media_type': 'video', 'custom_exercise_image_url': None, 'custom_exercise_image_thumbnail_url': 'https://pump-app.s3.eu-west-2.amazonaws.com/exercise-thumbnails/00171201-Assisted-Pull-up_Back_thumbnail@3x.jpg', 'thumbnail_url': 'https://pump-app.s3.eu-west-2.amazonaws.com/exercise-thumbnails/00171201-Assisted-Pull-up_Back_thumbnail@3x.jpg', 'muscle_group': 'lats', 'other_muscles': ['upper_back'], 'priority': 0, 'sets': [{'id': '697871982', 'index': 0, 'indicator': 'normal', 'weight_kg': 0, 'reps': 5, 'distance_meters': None, 'duration_seconds': None, 'rpe': None, 'prs': [], 'personalRecords': []}, {'id': '697871983', 'index': 1, 'indicator': 'normal', 'weight_kg': 0, 'reps': 5, 'distance_meters': None, 'duration_seconds': None, 'rpe': None, 'prs': [], 'personalRecords': []}]}]</td><td>1299.543685533108</td></tr></tbody></table></div>"
      ]
     },
     "metadata": {
      "application/vnd.databricks.v1+output": {
       "addedWidgets": {},
       "aggData": [],
       "aggError": "",
       "aggOverflow": false,
       "aggSchema": [],
       "aggSeriesLimitReached": false,
       "aggType": "",
       "arguments": {},
       "columnCustomDisplayInfos": {},
       "data": [
        [
         "c02ee31b-e638-4baf-b6a2-262910dff221",
         "MdLpC7ruF1Z",
         "30426659",
         "COD & Lower Focus",
         "RPE 4, isos hardest",
         "1698717635",
         "1698719486",
         "2023-10-31T02:31:14.152Z",
         "2023-10-31T02:32:24.874Z",
         "f58c7b50-d6b9-4d7c-9baf-d5b566eec9df",
         "True",
         "c36b0a00-49d2-414a-9c70-e549f9cf3b46",
         "healthfitnessgains",
         null,
         "False",
         "1",
         "0",
         "False",
         "True",
         "[]",
         "[{'id': 1214979, 'username': 'healthfitnessgains', 'verified': False, 'comment': 'RPE 4', 'created_at': '2023-10-31T02:32:04.244Z'}]",
         "1",
         "[{'type': 'image', 'url': 'https://d2l9nsnmtah87f.cloudfront.net/profile-images/healthfitnessgains-85ac1649-0b13-4981-9216-29b7ebc892db.jpg'}]",
         "['https://d2l9nsnmtah87f.cloudfront.net/profile-images/healthfitnessgains-85ac1649-0b13-4981-9216-29b7ebc892db.jpg']",
         "[{'id': '0f094543-9c86-487a-9fd5-979f0199570a', 'title': 'SL Overcoming ISO Drives (Fwd/Bkwd/Lat)', 'es_title': None, 'de_title': None, 'fr_title': None, 'it_title': None, 'pt_title': None, 'ko_title': None, 'ja_title': None, 'tr_title': None, 'ru_title': None, 'zh_cn_title': None, 'zh_tw_title': None, 'superset_id': None, 'rest_seconds': 30, 'notes': '', 'exercise_template_id': '5d5c8884-3ef4-4a5f-a59a-652bb6bc9a26', 'exercise_type': 'duration', 'equipment_category': 'barbell', 'custom_exercise_image_url': None, 'custom_exercise_image_thumbnail_url': None, 'thumbnail_url': None, 'muscle_group': 'glutes', 'other_muscles': ['calves', 'hamstrings', 'quadriceps'], 'priority': 10, 'sets': [{'id': '691510856', 'index': 0, 'indicator': 'normal', 'weight_kg': None, 'reps': None, 'distance_meters': None, 'duration_seconds': 5, 'rpe': None, 'prs': [], 'personalRecords': []}, {'id': '691510857', 'index': 1, 'indicator': 'normal', 'weight_kg': None, 'reps': None, 'distance_meters': None, 'duration_seconds': 5, 'rpe': None, 'prs': [], 'personalRecords': []}, {'id': '691510858', 'index': 2, 'indicator': 'normal', 'weight_kg': None, 'reps': None, 'distance_meters': None, 'duration_seconds': 5, 'rpe': None, 'prs': [], 'personalRecords': []}, {'id': '691510859', 'index': 3, 'indicator': 'normal', 'weight_kg': None, 'reps': None, 'distance_meters': None, 'duration_seconds': 5, 'rpe': None, 'prs': [], 'personalRecords': []}, {'id': '691510860', 'index': 4, 'indicator': 'normal', 'weight_kg': None, 'reps': None, 'distance_meters': None, 'duration_seconds': 5, 'rpe': None, 'prs': [], 'personalRecords': []}, {'id': '691510861', 'index': 5, 'indicator': 'normal', 'weight_kg': None, 'reps': None, 'distance_meters': None, 'duration_seconds': 8, 'rpe': None, 'prs': [], 'personalRecords': []}]}, {'id': 'f0460336-330c-4033-afa4-a92422868aa5', 'title': 'Single Leg Lateral Bounds + Stick (Reactive)', 'es_title': None, 'de_title': None, 'fr_title': None, 'it_title': None, 'pt_title': None, 'ko_title': None, 'ja_title': None, 'tr_title': None, 'ru_title': None, 'zh_cn_title': None, 'zh_tw_title': None, 'superset_id': None, 'rest_seconds': 30, 'notes': '', 'exercise_template_id': 'dca4bc00-3f27-452a-a46b-c052ebfcc14b', 'exercise_type': 'reps_only', 'equipment_category': 'none', 'custom_exercise_image_url': None, 'custom_exercise_image_thumbnail_url': None, 'thumbnail_url': None, 'muscle_group': 'glutes', 'other_muscles': ['quadriceps', 'calves'], 'priority': 10, 'sets': [{'id': '691510862', 'index': 0, 'indicator': 'normal', 'weight_kg': None, 'reps': 5, 'distance_meters': None, 'duration_seconds': None, 'rpe': None, 'prs': [], 'personalRecords': []}, {'id': '691510863', 'index': 1, 'indicator': 'normal', 'weight_kg': None, 'reps': 5, 'distance_meters': None, 'duration_seconds': None, 'rpe': None, 'prs': [], 'personalRecords': []}, {'id': '691510864', 'index': 2, 'indicator': 'normal', 'weight_kg': None, 'reps': 5, 'distance_meters': None, 'duration_seconds': None, 'rpe': None, 'prs': [], 'personalRecords': []}]}, {'id': '5050c74a-6bb3-4baf-9585-e889d23e1c5f', 'title': 'Pro Agility (5/10/5 Yard)', 'es_title': None, 'de_title': None, 'fr_title': None, 'it_title': None, 'pt_title': None, 'ko_title': None, 'ja_title': None, 'tr_title': None, 'ru_title': None, 'zh_cn_title': None, 'zh_tw_title': None, 'superset_id': None, 'rest_seconds': 0, 'notes': '', 'exercise_template_id': 'baf6d73d-4d0b-40a4-91de-c422602d5f78', 'exercise_type': 'reps_only', 'equipment_category': 'none', 'custom_exercise_image_url': None, 'custom_exercise_image_thumbnail_url': None, 'thumbnail_url': None, 'muscle_group': 'hamstrings', 'other_muscles': ['calves', 'abductors', 'quadriceps'], 'priority': 10, 'sets': [{'id': '691510865', 'index': 0, 'indicator': 'normal', 'weight_kg': None, 'reps': 1, 'distance_meters': None, 'duration_seconds': None, 'rpe': None, 'prs': [], 'personalRecords': []}, {'id': '691510866', 'index': 1, 'indicator': 'normal', 'weight_kg': None, 'reps': 1, 'distance_meters': None, 'duration_seconds': None, 'rpe': None, 'prs': [], 'personalRecords': []}]}]",
         "0.0"
        ],
        [
         "4b1cdb2b-b2a9-4d38-9b4b-3e8b7a00544d",
         "2vdp6XvjEca",
         "30716596",
         "Primary Lower",
         "Solid, RPE 4, only one set of squats felts weird on right hamstring, worked thru it no issues",
         "1698969805",
         "1698972145",
         "2023-11-03T00:41:31.026Z",
         "2023-11-03T00:43:37.160Z",
         "ed66435a-2e25-44bc-8fa4-47856bb4e59d",
         "True",
         "c36b0a00-49d2-414a-9c70-e549f9cf3b46",
         "healthfitnessgains",
         null,
         "False",
         "2",
         "0",
         "False",
         "False",
         "[]",
         "[]",
         "0",
         "[{'type': 'image', 'url': 'https://d2l9nsnmtah87f.cloudfront.net/profile-images/healthfitnessgains-19bdaec1-2b43-4c3f-925f-05f20450b808.jpg'}]",
         "['https://d2l9nsnmtah87f.cloudfront.net/profile-images/healthfitnessgains-19bdaec1-2b43-4c3f-925f-05f20450b808.jpg']",
         "[{'id': '8e638335-780f-4e40-8175-a2a57e6ac1af', 'title': 'Concentric Only Pin Squat', 'es_title': None, 'de_title': None, 'fr_title': None, 'it_title': None, 'pt_title': None, 'ko_title': None, 'ja_title': None, 'tr_title': None, 'ru_title': None, 'zh_cn_title': None, 'zh_tw_title': None, 'superset_id': None, 'rest_seconds': 120, 'notes': '', 'exercise_template_id': 'b6a2df34-fdbe-4812-b22e-09084519d165', 'exercise_type': 'weight_reps', 'equipment_category': 'barbell', 'custom_exercise_image_url': None, 'custom_exercise_image_thumbnail_url': None, 'thumbnail_url': None, 'muscle_group': 'quadriceps', 'other_muscles': ['glutes', 'calves', 'hamstrings'], 'priority': 10, 'sets': [{'id': '697871972', 'index': 0, 'indicator': 'normal', 'weight_kg': 29.483539113316585, 'reps': 10, 'distance_meters': None, 'duration_seconds': None, 'rpe': None, 'prs': [], 'personalRecords': []}, {'id': '697871973', 'index': 1, 'indicator': 'normal', 'weight_kg': 56.69911367945497, 'reps': 8, 'distance_meters': None, 'duration_seconds': None, 'rpe': None, 'prs': [], 'personalRecords': []}, {'id': '697871974', 'index': 2, 'indicator': 'normal', 'weight_kg': 61.235042773811365, 'reps': 3, 'distance_meters': None, 'duration_seconds': None, 'rpe': None, 'prs': [], 'personalRecords': []}, {'id': '697871975', 'index': 3, 'indicator': 'normal', 'weight_kg': 61.235042773811365, 'reps': 3, 'distance_meters': None, 'duration_seconds': None, 'rpe': None, 'prs': [], 'personalRecords': []}, {'id': '697871976', 'index': 4, 'indicator': 'normal', 'weight_kg': 61.235042773811365, 'reps': 3, 'distance_meters': None, 'duration_seconds': None, 'rpe': None, 'prs': [], 'personalRecords': []}]}, {'id': 'fe0b4ca8-ac34-41e3-aeb7-339d3922daad', 'title': 'Seated DB Jump, Band Assisted Pogo to Tuck', 'es_title': None, 'de_title': None, 'fr_title': None, 'it_title': None, 'pt_title': None, 'ko_title': None, 'ja_title': None, 'tr_title': None, 'ru_title': None, 'zh_cn_title': None, 'zh_tw_title': None, 'superset_id': None, 'rest_seconds': 0, 'notes': 'Add weights to this. Did 15lb dbs, rpe 5', 'exercise_template_id': '646ec9de-e5cd-4bcf-a1ec-d5b9e595b0ba', 'exercise_type': 'reps_only', 'equipment_category': 'barbell', 'custom_exercise_image_url': None, 'custom_exercise_image_thumbnail_url': None, 'thumbnail_url': None, 'muscle_group': 'full_body', 'other_muscles': [], 'priority': 10, 'sets': [{'id': '697871977', 'index': 0, 'indicator': 'normal', 'weight_kg': None, 'reps': 3, 'distance_meters': None, 'duration_seconds': None, 'rpe': None, 'prs': [], 'personalRecords': []}, {'id': '697871978', 'index': 1, 'indicator': 'normal', 'weight_kg': None, 'reps': 3, 'distance_meters': None, 'duration_seconds': None, 'rpe': None, 'prs': [], 'personalRecords': []}, {'id': '697871979', 'index': 2, 'indicator': 'normal', 'weight_kg': None, 'reps': 3, 'distance_meters': None, 'duration_seconds': None, 'rpe': None, 'prs': [], 'personalRecords': []}]}, {'id': 'a8efb5ef-afe2-4c8f-a7b4-a0ab62c13a7e', 'title': 'Active Recovery (AR): Wall Beach Slides', 'es_title': None, 'de_title': None, 'fr_title': None, 'it_title': None, 'pt_title': None, 'ko_title': None, 'ja_title': None, 'tr_title': None, 'ru_title': None, 'zh_cn_title': None, 'zh_tw_title': None, 'superset_id': None, 'rest_seconds': 0, 'notes': '', 'exercise_template_id': '77f5474c-e508-4bff-9548-09d0227cb44f', 'exercise_type': 'reps_only', 'equipment_category': 'other', 'custom_exercise_image_url': None, 'custom_exercise_image_thumbnail_url': None, 'thumbnail_url': None, 'muscle_group': 'full_body', 'other_muscles': [], 'priority': 10, 'sets': [{'id': '697871980', 'index': 0, 'indicator': 'normal', 'weight_kg': None, 'reps': 5, 'distance_meters': None, 'duration_seconds': None, 'rpe': None, 'prs': [], 'personalRecords': []}]}, {'id': 'b4eca2a7-252f-46b9-a303-3460aedfae90', 'title': 'Active Recovery (AR): Blackburns shoulders', 'es_title': None, 'de_title': None, 'fr_title': None, 'it_title': None, 'pt_title': None, 'ko_title': None, 'ja_title': None, 'tr_title': None, 'ru_title': None, 'zh_cn_title': None, 'zh_tw_title': None, 'superset_id': None, 'rest_seconds': 0, 'notes': '', 'exercise_template_id': '6685785d-5aa8-4592-bcd6-f6cdab7247cf', 'exercise_type': 'reps_only', 'equipment_category': 'none', 'custom_exercise_image_url': None, 'custom_exercise_image_thumbnail_url': None, 'thumbnail_url': None, 'muscle_group': 'shoulders', 'other_muscles': [], 'priority': 10, 'sets': [{'id': '697871981', 'index': 0, 'indicator': 'normal', 'weight_kg': None, 'reps': 5, 'distance_meters': None, 'duration_seconds': None, 'rpe': None, 'prs': [], 'personalRecords': []}]}, {'id': '228f5231-a97b-4ca8-9f44-51b3b9366223', 'title': 'Pull Up (Assisted)', 'es_title': 'Dominada (Asistida)', 'de_title': 'Klimmzüge (Unterstützt)', 'fr_title': 'Traction (Assistée)', 'it_title': 'Trazione (Assistita)', 'pt_title': 'Barra Fixa no Graviton (Máquina)', 'ko_title': '풀 업 (어시스트)', 'ja_title': 'プルアップ\\u3000(アシスト付き)', 'tr_title': 'Makine Barfiks (Destekli)', 'ru_title': 'Подтягивания (С помощью)', 'zh_cn_title': '引体向上 （辅助）', 'zh_tw_title': '引體向上 （輔助）', 'superset_id': None, 'rest_seconds': 0, 'notes': '', 'exercise_template_id': '2C37EC5E', 'url': 'https://pump-app.s3.eu-west-2.amazonaws.com/exercise-assets/00171201-Assisted-Pull-up_Back.mp4', 'exercise_type': 'bodyweight_assisted_reps', 'equipment_category': 'machine', 'media_type': 'video', 'custom_exercise_image_url': None, 'custom_exercise_image_thumbnail_url': 'https://pump-app.s3.eu-west-2.amazonaws.com/exercise-thumbnails/00171201-Assisted-Pull-up_Back_thumbnail@3x.jpg', 'thumbnail_url': 'https://pump-app.s3.eu-west-2.amazonaws.com/exercise-thumbnails/00171201-Assisted-Pull-up_Back_thumbnail@3x.jpg', 'muscle_group': 'lats', 'other_muscles': ['upper_back'], 'priority': 0, 'sets': [{'id': '697871982', 'index': 0, 'indicator': 'normal', 'weight_kg': 0, 'reps': 5, 'distance_meters': None, 'duration_seconds': None, 'rpe': None, 'prs': [], 'personalRecords': []}, {'id': '697871983', 'index': 1, 'indicator': 'normal', 'weight_kg': 0, 'reps': 5, 'distance_meters': None, 'duration_seconds': None, 'rpe': None, 'prs': [], 'personalRecords': []}]}]",
         "1299.543685533108"
        ]
       ],
       "datasetInfos": [],
       "dbfsResultPath": null,
       "isJsonSchema": true,
       "metadata": {},
       "overflow": false,
       "plotOptions": {
        "customPlotOptions": {},
        "displayType": "table",
        "pivotAggregation": null,
        "pivotColumns": null,
        "xColumns": null,
        "yColumns": null
       },
       "removedWidgets": [],
       "schema": [
        {
         "metadata": "{}",
         "name": "id",
         "type": "\"string\""
        },
        {
         "metadata": "{}",
         "name": "short_id",
         "type": "\"string\""
        },
        {
         "metadata": "{}",
         "name": "index",
         "type": "\"string\""
        },
        {
         "metadata": "{}",
         "name": "name",
         "type": "\"string\""
        },
        {
         "metadata": "{}",
         "name": "description",
         "type": "\"string\""
        },
        {
         "metadata": "{}",
         "name": "start_time",
         "type": "\"string\""
        },
        {
         "metadata": "{}",
         "name": "end_time",
         "type": "\"string\""
        },
        {
         "metadata": "{}",
         "name": "created_at",
         "type": "\"string\""
        },
        {
         "metadata": "{}",
         "name": "updated_at",
         "type": "\"string\""
        },
        {
         "metadata": "{}",
         "name": "routine_id",
         "type": "\"string\""
        },
        {
         "metadata": "{}",
         "name": "apple_watch",
         "type": "\"string\""
        },
        {
         "metadata": "{}",
         "name": "user_id",
         "type": "\"string\""
        },
        {
         "metadata": "{}",
         "name": "username",
         "type": "\"string\""
        },
        {
         "metadata": "{}",
         "name": "profile_image",
         "type": "\"string\""
        },
        {
         "metadata": "{}",
         "name": "verified",
         "type": "\"string\""
        },
        {
         "metadata": "{}",
         "name": "nth_workout",
         "type": "\"string\""
        },
        {
         "metadata": "{}",
         "name": "like_count",
         "type": "\"string\""
        },
        {
         "metadata": "{}",
         "name": "is_liked_by_user",
         "type": "\"string\""
        },
        {
         "metadata": "{}",
         "name": "is_private",
         "type": "\"string\""
        },
        {
         "metadata": "{}",
         "name": "like_images",
         "type": "\"string\""
        },
        {
         "metadata": "{}",
         "name": "comments",
         "type": "\"string\""
        },
        {
         "metadata": "{}",
         "name": "comment_count",
         "type": "\"string\""
        },
        {
         "metadata": "{}",
         "name": "media",
         "type": "\"string\""
        },
        {
         "metadata": "{}",
         "name": "image_urls",
         "type": "\"string\""
        },
        {
         "metadata": "{}",
         "name": "exercises",
         "type": "\"string\""
        },
        {
         "metadata": "{}",
         "name": "estimated_volume_kg",
         "type": "\"string\""
        }
       ],
       "type": "table"
      }
     },
     "output_type": "display_data"
    }
   ],
   "source": [
    "display(hevy_workouts_df.limit(20))"
   ]
  },
  {
   "cell_type": "markdown",
   "metadata": {
    "application/vnd.databricks.v1+cell": {
     "cellMetadata": {
      "byteLimit": 2048000,
      "rowLimit": 10000
     },
     "inputWidgets": {},
     "nuid": "ef402d1c-2880-4dad-89ce-035862eb2311",
     "showTitle": false,
     "title": ""
    }
   },
   "source": [
    "Show volume lifted. Compare workouts"
   ]
  },
  {
   "cell_type": "code",
   "execution_count": 0,
   "metadata": {
    "application/vnd.databricks.v1+cell": {
     "cellMetadata": {
      "byteLimit": 2048000,
      "rowLimit": 10000
     },
     "inputWidgets": {},
     "nuid": "20579aab-ede4-4330-ac4e-7ac6aa05d2ed",
     "showTitle": false,
     "title": ""
    }
   },
   "outputs": [
    {
     "output_type": "display_data",
     "data": {
      "image/png": "[encoded data removed]",
      "text/plain": [
       "<Figure size 1000x1000 with 4 Axes>"
      ]
     },
     "metadata": {},
     "output_type": "display_data"
    }
   ],
   "source": [
    "workout_rows = hevy_workouts_df.take(2)\n",
    "\n",
    "# Convert start and end times from strings to integers and calculate duration in minutes\n",
    "workout1_duration_minutes = (int(workout_rows[0]['end_time']) - int(workout_rows[0]['start_time'])) / 60\n",
    "workout2_duration_minutes = (int(workout_rows[1]['end_time']) - int(workout_rows[1]['start_time'])) / 60\n",
    "\n",
    "workout1_volume = float(workout_rows[0]['estimated_volume_kg'])\n",
    "workout2_volume = float(workout_rows[1]['estimated_volume_kg'])\n",
    "\n",
    "# display these values in a 2x2 grid using matplotlib\n",
    "workouts = ['Workout 1', 'Workout 2']\n",
    "durations = [workout1_duration_minutes, workout2_duration_minutes]\n",
    "volumes = [workout1_volume, workout2_volume]  # Make sure these are numeric\n",
    "x = range(len(workouts))  # x-coordinates for the bars\n",
    "\n",
    "fig, axs = plt.subplots(2, 2, figsize=(10, 10))\n",
    "\n",
    "# Ensure we only provide two colors for the two bars\n",
    "colors = ['blue', 'green']\n",
    "\n",
    "# Plotting Duration of Each Workout\n",
    "axs[0, 0].bar(x, durations, color=colors)\n",
    "axs[0, 0].set_xticks(x)\n",
    "axs[0, 0].set_xticklabels(workouts)\n",
    "axs[0, 0].set_title('Duration of Each Workout (in minutes)')\n",
    "axs[0, 0].set_ylabel('Duration (minutes)')\n",
    "\n",
    "# Plotting Total Volume for Each Workout\n",
    "axs[1, 0].bar(x, volumes, color=colors)\n",
    "axs[1, 0].set_xticks(x)\n",
    "axs[1, 0].set_xticklabels(workouts)\n",
    "axs[1, 0].set_title('Total Volume of Each Workout (in kg)')\n",
    "axs[1, 0].set_ylabel('Volume (kg)')\n",
    "\n",
    "# Setting the other plots as empty/blank\n",
    "axs[0, 1].axis('off')\n",
    "axs[1, 1].axis('off')\n",
    "\n",
    "# Add labels on top of the bars with center alignment\n",
    "for i, v in enumerate(durations):\n",
    "    axs[0, 0].text(i, v, f'{round(v)}', ha='center', va='bottom', fontweight='bold')\n",
    "for i, v in enumerate(volumes):\n",
    "    # Make sure to add a small offset to 'v' to position the label above the bar\n",
    "    axs[1, 0].text(i, v, f'{round(v)}', ha='center', va='bottom', fontweight='bold')\n",
    "\n",
    "plt.tight_layout()\n",
    "plt.show()"
   ]
  },
  {
   "cell_type": "markdown",
   "metadata": {
    "application/vnd.databricks.v1+cell": {
     "cellMetadata": {
      "byteLimit": 2048000,
      "rowLimit": 10000
     },
     "inputWidgets": {},
     "nuid": "646c20a1-2104-4f36-b1ca-66c400b7f490",
     "showTitle": false,
     "title": ""
    }
   },
   "source": [
    "# Display Polar data\n",
    "\n",
    "one row = one exercise session (walking, cycling, running, etc.)\n",
    "\n",
    "Note: Polar has two apps (Polar Flow and Polar BEAT). As far as I can tell from experimenting, functionally they do the same thing and provide the same data"
   ]
  },
  {
   "cell_type": "code",
   "execution_count": 0,
   "metadata": {
    "application/vnd.databricks.v1+cell": {
     "cellMetadata": {
      "byteLimit": 2048000,
      "rowLimit": 10000
     },
     "inputWidgets": {},
     "nuid": "654e15f7-e5d7-4441-adba-8ef931abf62c",
     "showTitle": false,
     "title": ""
    }
   },
   "outputs": [
    {
     "output_type": "display_data",
     "data": {
      "text/html": [
       "<style scoped>\n",
       "  .table-result-container {\n",
       "    max-height: 300px;\n",
       "    overflow: auto;\n",
       "  }\n",
       "  table, th, td {\n",
       "    border: 1px solid black;\n",
       "    border-collapse: collapse;\n",
       "  }\n",
       "  th, td {\n",
       "    padding: 5px;\n",
       "  }\n",
       "  th {\n",
       "    text-align: left;\n",
       "  }\n",
       "</style><div class='table-result-container'><table class='table-result'><thead style='background-color: white'><tr><th>id</th><th>upload_time</th><th>polar_user</th><th>device</th><th>start_time</th><th>start_time_utc_offset</th><th>duration</th><th>heart_rate</th><th>sport</th><th>has_route</th><th>detailed_sport_info</th><th>training_load_pro</th><th>distance</th><th>calories</th></tr></thead><tbody><tr><td>yMkdO6Yx</td><td>2023-10-24T08:22:26Z</td><td>https://www.polaraccesslink.com/v3/users/60755152</td><td>Polar Flow app</td><td>2023-10-24T03:22:05</td><td>-300</td><td>PT10.516S</td><td>{}</td><td>OTHER</td><td>False</td><td>YOGA</td><td>{'cardio-load': 0.0, 'cardio-load-interpretation': 'NOT_AVAILABLE', 'muscle-load': -1.0, 'muscle-load-interpretation': 'NOT_AVAILABLE', 'perceived-load': 0.0, 'perceived-load-interpretation': 'NOT_AVAILABLE', 'user-rpe': 'UNKNOWN'}</td><td>null</td><td>null</td></tr><tr><td>0rpz4o8o</td><td>2023-10-24T08:26:38Z</td><td>https://www.polaraccesslink.com/v3/users/60755152</td><td>Polar Flow app</td><td>2023-10-24T03:26:18</td><td>-300</td><td>PT12.801S</td><td>{}</td><td>OTHER</td><td>True</td><td>PARASPORTS_WHEELCHAIR</td><td>{'cardio-load': 0.0, 'cardio-load-interpretation': 'NOT_AVAILABLE', 'muscle-load': -1.0, 'muscle-load-interpretation': 'NOT_AVAILABLE', 'perceived-load': 0.0, 'perceived-load-interpretation': 'NOT_AVAILABLE', 'user-rpe': 'UNKNOWN'}</td><td>5.0</td><td>null</td></tr><tr><td>y8wro66D</td><td>2023-10-24T19:45:38Z</td><td>https://www.polaraccesslink.com/v3/users/60755152</td><td>Polar BEAT</td><td>2023-10-24T14:32:46</td><td>-300</td><td>PT757S</td><td>{'average': 82, 'maximum': 117}</td><td>OTHER</td><td>True</td><td>WALKING</td><td>null</td><td>671.0</td><td>39.0</td></tr><tr><td>y7BxV7wJ</td><td>2023-10-25T19:06:39Z</td><td>https://www.polaraccesslink.com/v3/users/60755152</td><td>Polar BEAT</td><td>2023-10-25T11:53:31</td><td>-300</td><td>PT454S</td><td>{'average': 89, 'maximum': 126}</td><td>OTHER</td><td>True</td><td>WALKING</td><td>null</td><td>478.0</td><td>28.0</td></tr><tr><td>yMkdxVlO</td><td>2023-10-25T23:32:58Z</td><td>https://www.polaraccesslink.com/v3/users/60755152</td><td>Polar Flow app</td><td>2023-10-25T17:30:36</td><td>-300</td><td>PT3732.154S</td><td>{'average': 73, 'maximum': 122}</td><td>OTHER</td><td>False</td><td>YOGA</td><td>{'cardio-load': 8.9185, 'cardio-load-interpretation': 'VERY_HIGH', 'muscle-load': -1.0, 'muscle-load-interpretation': 'NOT_AVAILABLE', 'perceived-load': 0.0, 'perceived-load-interpretation': 'NOT_AVAILABLE', 'user-rpe': 'UNKNOWN'}</td><td>null</td><td>148.0</td></tr><tr><td>0rpzqEEa</td><td>2023-10-29T23:12:26Z</td><td>https://www.polaraccesslink.com/v3/users/60755152</td><td>Polar BEAT</td><td>2023-10-29T18:00:17</td><td>-300</td><td>PT714S</td><td>{'average': 63, 'maximum': 76}</td><td>OTHER</td><td>True</td><td>WALKING</td><td>null</td><td>4842.0</td><td>18.0</td></tr><tr><td>PkV4EJvL</td><td>2023-10-29T23:32:49Z</td><td>https://www.polaraccesslink.com/v3/users/60755152</td><td>Polar Flow app</td><td>2023-10-29T18:15:03</td><td>-300</td><td>PT1057.897S</td><td>{'average': 67, 'maximum': 88}</td><td>OTHER</td><td>True</td><td>WALKING</td><td>{'cardio-load': 0.0415559, 'cardio-load-interpretation': 'VERY_LOW', 'muscle-load': -1.0, 'muscle-load-interpretation': 'NOT_AVAILABLE', 'perceived-load': 0.0, 'perceived-load-interpretation': 'NOT_AVAILABLE', 'user-rpe': 'UNKNOWN'}</td><td>427.0</td><td>0.0</td></tr><tr><td>yJGjNjqw</td><td>2023-10-31T01:47:36Z</td><td>https://www.polaraccesslink.com/v3/users/60755152</td><td>Polar Flow app</td><td>2023-10-30T20:30:55</td><td>-300</td><td>PT995.753S</td><td>{'average': 112, 'maximum': 160}</td><td>CYCLING</td><td>True</td><td>CYCLING</td><td>{'cardio-load': 11.8723, 'cardio-load-interpretation': 'VERY_HIGH', 'muscle-load': -1.0, 'muscle-load-interpretation': 'NOT_AVAILABLE', 'perceived-load': 0.0, 'perceived-load-interpretation': 'NOT_AVAILABLE', 'user-rpe': 'UNKNOWN'}</td><td>84.0</td><td>135.0</td></tr><tr><td>PogXGjmW</td><td>2023-10-31T02:50:42Z</td><td>https://www.polaraccesslink.com/v3/users/60755152</td><td>Polar BEAT</td><td>2023-10-30T21:03:37</td><td>-300</td><td>PT1779S</td><td>{'average': 132, 'maximum': 169}</td><td>OTHER</td><td>False</td><td>MOBILITY_DYNAMIC</td><td>null</td><td>null</td><td>333.0</td></tr><tr><td>5pY8dOpq</td><td>2023-11-02T04:05:35Z</td><td>https://www.polaraccesslink.com/v3/users/60755152</td><td>Polar BEAT</td><td>2023-11-01T22:04:31</td><td>-300</td><td>PT3023S</td><td>{'average': 67, 'maximum': 93}</td><td>OTHER</td><td>True</td><td>WALKING</td><td>null</td><td>1292.0</td><td>90.0</td></tr><tr><td>PXlNW7bJ</td><td>2023-11-03T00:02:34Z</td><td>https://www.polaraccesslink.com/v3/users/60755152</td><td>Polar BEAT</td><td>2023-11-02T18:51:06</td><td>-300</td><td>PT599S</td><td>{'average': 143, 'maximum': 171}</td><td>OTHER</td><td>False</td><td>LES_MILLS_BODYPUMP</td><td>null</td><td>null</td><td>129.0</td></tr><tr><td>yqgvoEx4</td><td>2023-11-03T00:44:44Z</td><td>https://www.polaraccesslink.com/v3/users/60755152</td><td>Polar BEAT</td><td>2023-11-02T19:05:50</td><td>-300</td><td>PT2323S</td><td>{'average': 110, 'maximum': 163}</td><td>OTHER</td><td>False</td><td>FUNCTIONAL_TRAINING</td><td>null</td><td>null</td><td>287.0</td></tr><tr><td>PEmXeAbK</td><td>2023-11-04T21:50:14Z</td><td>https://www.polaraccesslink.com/v3/users/60755152</td><td>Polar Flow app</td><td>2023-11-04T16:07:07</td><td>-300</td><td>PT2577.604S</td><td>{'average': 116, 'maximum': 170}</td><td>RUNNING</td><td>True</td><td>RUNNING</td><td>{'cardio-load': 34.9084, 'cardio-load-interpretation': 'VERY_HIGH', 'muscle-load': -1.0, 'muscle-load-interpretation': 'NOT_AVAILABLE', 'perceived-load': 0.0, 'perceived-load-interpretation': 'NOT_AVAILABLE', 'user-rpe': 'UNKNOWN'}</td><td>731.0</td><td>303.0</td></tr><tr><td>ywzdWEk1</td><td>2023-11-07T03:05:56Z</td><td>https://www.polaraccesslink.com/v3/users/60755152</td><td>Polar Flow app</td><td>2023-11-06T20:41:08</td><td>-360</td><td>PT1478.959S</td><td>{'average': 137, 'maximum': 175}</td><td>CYCLING</td><td>True</td><td>CYCLING</td><td>{'cardio-load': 38.7677, 'cardio-load-interpretation': 'VERY_HIGH', 'muscle-load': -1.0, 'muscle-load-interpretation': 'NOT_AVAILABLE', 'perceived-load': 0.0, 'perceived-load-interpretation': 'NOT_AVAILABLE', 'user-rpe': 'UNKNOWN'}</td><td>322.0</td><td>251.0</td></tr><tr><td>y3j36x6Q</td><td>2023-11-08T14:56:53Z</td><td>https://www.polaraccesslink.com/v3/users/60755152</td><td>Polar BEAT</td><td>2023-11-08T08:46:01</td><td>-360</td><td>PT635S</td><td>{'average': 84, 'maximum': 101}</td><td>OTHER</td><td>True</td><td>WALKING</td><td>null</td><td>639.0</td><td>31.0</td></tr><tr><td>PWwXwMq7</td><td>2023-11-09T00:04:08Z</td><td>https://www.polaraccesslink.com/v3/users/60755152</td><td>Polar Flow app</td><td>2023-11-08T17:21:54</td><td>-360</td><td>PT2502.602S</td><td>{'average': 48, 'maximum': 88}</td><td>OTHER</td><td>False</td><td>OTHER_INDOOR</td><td>{'cardio-load': 0.366686, 'cardio-load-interpretation': 'VERY_LOW', 'muscle-load': -1.0, 'muscle-load-interpretation': 'NOT_AVAILABLE', 'perceived-load': 0.0, 'perceived-load-interpretation': 'NOT_AVAILABLE', 'user-rpe': 'UNKNOWN'}</td><td>null</td><td>57.0</td></tr><tr><td>yJGobdva</td><td>2023-11-09T23:53:39Z</td><td>https://www.polaraccesslink.com/v3/users/60755152</td><td>Polar Flow app</td><td>2023-11-09T17:45:45</td><td>-360</td><td>PT466.900S</td><td>{'average': 100, 'maximum': 141}</td><td>OTHER</td><td>True</td><td>WALKING</td><td>{'cardio-load': 3.74659, 'cardio-load-interpretation': 'VERY_LOW', 'muscle-load': -1.0, 'muscle-load-interpretation': 'NOT_AVAILABLE', 'perceived-load': 0.0, 'perceived-load-interpretation': 'NOT_AVAILABLE', 'user-rpe': 'UNKNOWN'}</td><td>542.0</td><td>43.0</td></tr></tbody></table></div>"
      ]
     },
     "metadata": {
      "application/vnd.databricks.v1+output": {
       "addedWidgets": {},
       "aggData": [],
       "aggError": "",
       "aggOverflow": false,
       "aggSchema": [],
       "aggSeriesLimitReached": false,
       "aggType": "",
       "arguments": {},
       "columnCustomDisplayInfos": {},
       "data": [
        [
         "yMkdO6Yx",
         "2023-10-24T08:22:26Z",
         "https://www.polaraccesslink.com/v3/users/60755152",
         "Polar Flow app",
         "2023-10-24T03:22:05",
         "-300",
         "PT10.516S",
         "{}",
         "OTHER",
         "False",
         "YOGA",
         "{'cardio-load': 0.0, 'cardio-load-interpretation': 'NOT_AVAILABLE', 'muscle-load': -1.0, 'muscle-load-interpretation': 'NOT_AVAILABLE', 'perceived-load': 0.0, 'perceived-load-interpretation': 'NOT_AVAILABLE', 'user-rpe': 'UNKNOWN'}",
         null,
         null
        ],
        [
         "0rpz4o8o",
         "2023-10-24T08:26:38Z",
         "https://www.polaraccesslink.com/v3/users/60755152",
         "Polar Flow app",
         "2023-10-24T03:26:18",
         "-300",
         "PT12.801S",
         "{}",
         "OTHER",
         "True",
         "PARASPORTS_WHEELCHAIR",
         "{'cardio-load': 0.0, 'cardio-load-interpretation': 'NOT_AVAILABLE', 'muscle-load': -1.0, 'muscle-load-interpretation': 'NOT_AVAILABLE', 'perceived-load': 0.0, 'perceived-load-interpretation': 'NOT_AVAILABLE', 'user-rpe': 'UNKNOWN'}",
         "5.0",
         null
        ],
        [
         "y8wro66D",
         "2023-10-24T19:45:38Z",
         "https://www.polaraccesslink.com/v3/users/60755152",
         "Polar BEAT",
         "2023-10-24T14:32:46",
         "-300",
         "PT757S",
         "{'average': 82, 'maximum': 117}",
         "OTHER",
         "True",
         "WALKING",
         null,
         "671.0",
         "39.0"
        ],
        [
         "y7BxV7wJ",
         "2023-10-25T19:06:39Z",
         "https://www.polaraccesslink.com/v3/users/60755152",
         "Polar BEAT",
         "2023-10-25T11:53:31",
         "-300",
         "PT454S",
         "{'average': 89, 'maximum': 126}",
         "OTHER",
         "True",
         "WALKING",
         null,
         "478.0",
         "28.0"
        ],
        [
         "yMkdxVlO",
         "2023-10-25T23:32:58Z",
         "https://www.polaraccesslink.com/v3/users/60755152",
         "Polar Flow app",
         "2023-10-25T17:30:36",
         "-300",
         "PT3732.154S",
         "{'average': 73, 'maximum': 122}",
         "OTHER",
         "False",
         "YOGA",
         "{'cardio-load': 8.9185, 'cardio-load-interpretation': 'VERY_HIGH', 'muscle-load': -1.0, 'muscle-load-interpretation': 'NOT_AVAILABLE', 'perceived-load': 0.0, 'perceived-load-interpretation': 'NOT_AVAILABLE', 'user-rpe': 'UNKNOWN'}",
         null,
         "148.0"
        ],
        [
         "0rpzqEEa",
         "2023-10-29T23:12:26Z",
         "https://www.polaraccesslink.com/v3/users/60755152",
         "Polar BEAT",
         "2023-10-29T18:00:17",
         "-300",
         "PT714S",
         "{'average': 63, 'maximum': 76}",
         "OTHER",
         "True",
         "WALKING",
         null,
         "4842.0",
         "18.0"
        ],
        [
         "PkV4EJvL",
         "2023-10-29T23:32:49Z",
         "https://www.polaraccesslink.com/v3/users/60755152",
         "Polar Flow app",
         "2023-10-29T18:15:03",
         "-300",
         "PT1057.897S",
         "{'average': 67, 'maximum': 88}",
         "OTHER",
         "True",
         "WALKING",
         "{'cardio-load': 0.0415559, 'cardio-load-interpretation': 'VERY_LOW', 'muscle-load': -1.0, 'muscle-load-interpretation': 'NOT_AVAILABLE', 'perceived-load': 0.0, 'perceived-load-interpretation': 'NOT_AVAILABLE', 'user-rpe': 'UNKNOWN'}",
         "427.0",
         "0.0"
        ],
        [
         "yJGjNjqw",
         "2023-10-31T01:47:36Z",
         "https://www.polaraccesslink.com/v3/users/60755152",
         "Polar Flow app",
         "2023-10-30T20:30:55",
         "-300",
         "PT995.753S",
         "{'average': 112, 'maximum': 160}",
         "CYCLING",
         "True",
         "CYCLING",
         "{'cardio-load': 11.8723, 'cardio-load-interpretation': 'VERY_HIGH', 'muscle-load': -1.0, 'muscle-load-interpretation': 'NOT_AVAILABLE', 'perceived-load': 0.0, 'perceived-load-interpretation': 'NOT_AVAILABLE', 'user-rpe': 'UNKNOWN'}",
         "84.0",
         "135.0"
        ],
        [
         "PogXGjmW",
         "2023-10-31T02:50:42Z",
         "https://www.polaraccesslink.com/v3/users/60755152",
         "Polar BEAT",
         "2023-10-30T21:03:37",
         "-300",
         "PT1779S",
         "{'average': 132, 'maximum': 169}",
         "OTHER",
         "False",
         "MOBILITY_DYNAMIC",
         null,
         null,
         "333.0"
        ],
        [
         "5pY8dOpq",
         "2023-11-02T04:05:35Z",
         "https://www.polaraccesslink.com/v3/users/60755152",
         "Polar BEAT",
         "2023-11-01T22:04:31",
         "-300",
         "PT3023S",
         "{'average': 67, 'maximum': 93}",
         "OTHER",
         "True",
         "WALKING",
         null,
         "1292.0",
         "90.0"
        ],
        [
         "PXlNW7bJ",
         "2023-11-03T00:02:34Z",
         "https://www.polaraccesslink.com/v3/users/60755152",
         "Polar BEAT",
         "2023-11-02T18:51:06",
         "-300",
         "PT599S",
         "{'average': 143, 'maximum': 171}",
         "OTHER",
         "False",
         "LES_MILLS_BODYPUMP",
         null,
         null,
         "129.0"
        ],
        [
         "yqgvoEx4",
         "2023-11-03T00:44:44Z",
         "https://www.polaraccesslink.com/v3/users/60755152",
         "Polar BEAT",
         "2023-11-02T19:05:50",
         "-300",
         "PT2323S",
         "{'average': 110, 'maximum': 163}",
         "OTHER",
         "False",
         "FUNCTIONAL_TRAINING",
         null,
         null,
         "287.0"
        ],
        [
         "PEmXeAbK",
         "2023-11-04T21:50:14Z",
         "https://www.polaraccesslink.com/v3/users/60755152",
         "Polar Flow app",
         "2023-11-04T16:07:07",
         "-300",
         "PT2577.604S",
         "{'average': 116, 'maximum': 170}",
         "RUNNING",
         "True",
         "RUNNING",
         "{'cardio-load': 34.9084, 'cardio-load-interpretation': 'VERY_HIGH', 'muscle-load': -1.0, 'muscle-load-interpretation': 'NOT_AVAILABLE', 'perceived-load': 0.0, 'perceived-load-interpretation': 'NOT_AVAILABLE', 'user-rpe': 'UNKNOWN'}",
         "731.0",
         "303.0"
        ],
        [
         "ywzdWEk1",
         "2023-11-07T03:05:56Z",
         "https://www.polaraccesslink.com/v3/users/60755152",
         "Polar Flow app",
         "2023-11-06T20:41:08",
         "-360",
         "PT1478.959S",
         "{'average': 137, 'maximum': 175}",
         "CYCLING",
         "True",
         "CYCLING",
         "{'cardio-load': 38.7677, 'cardio-load-interpretation': 'VERY_HIGH', 'muscle-load': -1.0, 'muscle-load-interpretation': 'NOT_AVAILABLE', 'perceived-load': 0.0, 'perceived-load-interpretation': 'NOT_AVAILABLE', 'user-rpe': 'UNKNOWN'}",
         "322.0",
         "251.0"
        ],
        [
         "y3j36x6Q",
         "2023-11-08T14:56:53Z",
         "https://www.polaraccesslink.com/v3/users/60755152",
         "Polar BEAT",
         "2023-11-08T08:46:01",
         "-360",
         "PT635S",
         "{'average': 84, 'maximum': 101}",
         "OTHER",
         "True",
         "WALKING",
         null,
         "639.0",
         "31.0"
        ],
        [
         "PWwXwMq7",
         "2023-11-09T00:04:08Z",
         "https://www.polaraccesslink.com/v3/users/60755152",
         "Polar Flow app",
         "2023-11-08T17:21:54",
         "-360",
         "PT2502.602S",
         "{'average': 48, 'maximum': 88}",
         "OTHER",
         "False",
         "OTHER_INDOOR",
         "{'cardio-load': 0.366686, 'cardio-load-interpretation': 'VERY_LOW', 'muscle-load': -1.0, 'muscle-load-interpretation': 'NOT_AVAILABLE', 'perceived-load': 0.0, 'perceived-load-interpretation': 'NOT_AVAILABLE', 'user-rpe': 'UNKNOWN'}",
         null,
         "57.0"
        ],
        [
         "yJGobdva",
         "2023-11-09T23:53:39Z",
         "https://www.polaraccesslink.com/v3/users/60755152",
         "Polar Flow app",
         "2023-11-09T17:45:45",
         "-360",
         "PT466.900S",
         "{'average': 100, 'maximum': 141}",
         "OTHER",
         "True",
         "WALKING",
         "{'cardio-load': 3.74659, 'cardio-load-interpretation': 'VERY_LOW', 'muscle-load': -1.0, 'muscle-load-interpretation': 'NOT_AVAILABLE', 'perceived-load': 0.0, 'perceived-load-interpretation': 'NOT_AVAILABLE', 'user-rpe': 'UNKNOWN'}",
         "542.0",
         "43.0"
        ]
       ],
       "datasetInfos": [],
       "dbfsResultPath": null,
       "isJsonSchema": true,
       "metadata": {},
       "overflow": false,
       "plotOptions": {
        "customPlotOptions": {},
        "displayType": "table",
        "pivotAggregation": null,
        "pivotColumns": null,
        "xColumns": null,
        "yColumns": null
       },
       "removedWidgets": [],
       "schema": [
        {
         "metadata": "{}",
         "name": "id",
         "type": "\"string\""
        },
        {
         "metadata": "{}",
         "name": "upload_time",
         "type": "\"string\""
        },
        {
         "metadata": "{}",
         "name": "polar_user",
         "type": "\"string\""
        },
        {
         "metadata": "{}",
         "name": "device",
         "type": "\"string\""
        },
        {
         "metadata": "{}",
         "name": "start_time",
         "type": "\"string\""
        },
        {
         "metadata": "{}",
         "name": "start_time_utc_offset",
         "type": "\"string\""
        },
        {
         "metadata": "{}",
         "name": "duration",
         "type": "\"string\""
        },
        {
         "metadata": "{}",
         "name": "heart_rate",
         "type": "\"string\""
        },
        {
         "metadata": "{}",
         "name": "sport",
         "type": "\"string\""
        },
        {
         "metadata": "{}",
         "name": "has_route",
         "type": "\"string\""
        },
        {
         "metadata": "{}",
         "name": "detailed_sport_info",
         "type": "\"string\""
        },
        {
         "metadata": "{}",
         "name": "training_load_pro",
         "type": "\"string\""
        },
        {
         "metadata": "{}",
         "name": "distance",
         "type": "\"string\""
        },
        {
         "metadata": "{}",
         "name": "calories",
         "type": "\"string\""
        }
       ],
       "type": "table"
      }
     },
     "output_type": "display_data"
    }
   ],
   "source": [
    "display(polar_exercises_df.limit(20))"
   ]
  },
  {
   "cell_type": "markdown",
   "metadata": {
    "application/vnd.databricks.v1+cell": {
     "cellMetadata": {
      "byteLimit": 2048000,
      "rowLimit": 10000
     },
     "inputWidgets": {},
     "nuid": "c4abd923-5cee-4e84-9d2e-2387f23be9b0",
     "showTitle": false,
     "title": ""
    }
   },
   "source": [
    "Heart rate data is the most important.\n",
    "\n",
    "```\n",
    "\"{'average': 82, 'maximum': 117}\"\n",
    "```\n",
    "\n",
    "Goal to use HRMAX Training Zones 1-5, then can see training intensity of each exercise\n",
    "\n",
    "Display a graph of the average heart rate for each training zone"
   ]
  },
  {
   "cell_type": "code",
   "execution_count": 0,
   "metadata": {
    "application/vnd.databricks.v1+cell": {
     "cellMetadata": {
      "byteLimit": 2048000,
      "rowLimit": 10000
     },
     "inputWidgets": {},
     "nuid": "386ae9c4-bc43-43af-8950-f4962666ff5c",
     "showTitle": false,
     "title": ""
    }
   },
   "outputs": [
    {
     "output_type": "display_data",
     "data": {
      "image/png": "[encoded data removed]",
      "text/plain": [
       "<Figure size 1000x600 with 1 Axes>"
      ]
     },
     "metadata": {},
     "output_type": "display_data"
    }
   ],
   "source": [
    "data = [\n",
    "    (1, '{\"average\": 114}'),\n",
    "    (2, '{\"average\": 133}'),\n",
    "    (3, '{\"average\": 155}'),\n",
    "    (4, '{\"average\": 171}'),\n",
    "    (5, '{\"average\": 190}'),\n",
    "]\n",
    "schema = StructType([\n",
    "    StructField(\"id\", IntegerType(), True),\n",
    "    StructField(\"heart_rate\", StringType(), True)\n",
    "])\n",
    "polar_exercises_df = spark.createDataFrame(data, schema=schema)\n",
    "\n",
    "# Parse the JSON and extract the average heart rate\n",
    "schema = StructType([\n",
    "    StructField(\"average\", IntegerType(), True)\n",
    "])\n",
    "polar_exercises_df = polar_exercises_df.withColumn(\"heart_rate_json\", from_json(col(\"heart_rate\"), schema))\n",
    "\n",
    "# Extract the average heart rate from the JSON structure\n",
    "polar_exercises_df = polar_exercises_df.withColumn(\"average_heart_rate\", col(\"heart_rate_json.average\"))\n",
    "\n",
    "# Define the training zones based on the average heart rate\n",
    "zone1 = (polar_exercises_df[\"average_heart_rate\"] < 120)\n",
    "zone2 = (polar_exercises_df[\"average_heart_rate\"] >= 120) & (polar_exercises_df[\"average_heart_rate\"] < 140)\n",
    "zone3 = (polar_exercises_df[\"average_heart_rate\"] >= 140) & (polar_exercises_df[\"average_heart_rate\"] < 160)\n",
    "zone4 = (polar_exercises_df[\"average_heart_rate\"] >= 160) & (polar_exercises_df[\"average_heart_rate\"] < 180)\n",
    "zone5 = (polar_exercises_df[\"average_heart_rate\"] >= 180)\n",
    "\n",
    "# Add new column to indicate the training zones for each row\n",
    "polar_exercises_df = polar_exercises_df.withColumn(\"training_zone\", \n",
    "        when(zone1, \"Zone 1\")\n",
    "       .when(zone2, \"Zone 2\")\n",
    "       .when(zone3, \"Zone 3\")\n",
    "       .when(zone4, \"Zone 4\")\n",
    "       .when(zone5, \"Zone 5\")\n",
    "       .otherwise(\"Unknown\"))\n",
    "\n",
    "# Aggregate data by the training zone and calculate the average heart rate for each zone\n",
    "zone_hr_avg = polar_exercises_df.groupBy(\"training_zone\").agg(avg(\"average_heart_rate\").alias(\"avg_heart_rate\"))\n",
    "\n",
    "# Convert Spark DataFrame to Pandas DataFrame\n",
    "zone_hr_avg_pd = zone_hr_avg.toPandas()\n",
    "\n",
    "# Plotting\n",
    "plt.figure(figsize=(10, 6))\n",
    "bars = plt.bar(zone_hr_avg_pd[\"training_zone\"], zone_hr_avg_pd[\"avg_heart_rate\"].round().astype(int), color='blue', alpha=0.7)\n",
    "plt.title('Average Heart Rate for Each Training Zone')\n",
    "plt.xlabel('Training Zones')\n",
    "plt.ylabel('Average Heart Rate')\n",
    "\n",
    "# Add labels inside the bars\n",
    "for bar in bars:\n",
    "    height = bar.get_height()\n",
    "    plt.text(bar.get_x() + bar.get_width() / 2, height, str(height), ha='center', va='bottom')\n",
    "\n",
    "plt.show()"
   ]
  },
  {
   "cell_type": "markdown",
   "metadata": {
    "application/vnd.databricks.v1+cell": {
     "cellMetadata": {
      "byteLimit": 2048000,
      "rowLimit": 10000
     },
     "inputWidgets": {},
     "nuid": "3c9722ad-4e2c-4280-88f3-e98b30f98ff7",
     "showTitle": false,
     "title": ""
    }
   },
   "source": [
    "# Verify Kaggle Datasets\n",
    "The dataset formats from Kaggle can vary - often either a single csv or multiple csvs\n",
    "\n",
    "The upload script for loading files into ADLS automatically merges each dataset into a single csv\n",
    "\n",
    "Make sure dataset columns/values line up properly"
   ]
  },
  {
   "cell_type": "markdown",
   "metadata": {
    "application/vnd.databricks.v1+cell": {
     "cellMetadata": {},
     "inputWidgets": {},
     "nuid": "9832c693-f9e7-4831-992c-c1e20795f5e9",
     "showTitle": false,
     "title": ""
    }
   },
   "source": [
    "## Crossfit\n",
    "source: https://www.kaggle.com/datasets/ulrikthygepedersen/crossfit-athletes"
   ]
  },
  {
   "cell_type": "code",
   "execution_count": 0,
   "metadata": {
    "application/vnd.databricks.v1+cell": {
     "cellMetadata": {
      "byteLimit": 2048000,
      "rowLimit": 10000
     },
     "inputWidgets": {},
     "nuid": "0ae5fa7e-0b8e-4031-8347-d22481ee5dac",
     "showTitle": false,
     "title": ""
    }
   },
   "outputs": [
    {
     "output_type": "display_data",
     "data": {
      "text/html": [
       "<style scoped>\n",
       "  .table-result-container {\n",
       "    max-height: 300px;\n",
       "    overflow: auto;\n",
       "  }\n",
       "  table, th, td {\n",
       "    border: 1px solid black;\n",
       "    border-collapse: collapse;\n",
       "  }\n",
       "  th, td {\n",
       "    padding: 5px;\n",
       "  }\n",
       "  th {\n",
       "    text-align: left;\n",
       "  }\n",
       "</style><div class='table-result-container'><table class='table-result'><thead style='background-color: white'><tr><th>athlete_id</th><th>name</th><th>region</th><th>team</th><th>affiliate</th><th>gender</th><th>age</th><th>height</th><th>weight</th><th>fran</th><th>helen</th><th>grace</th><th>filthy50</th><th>fgonebad</th><th>run400</th><th>run5k</th><th>candj</th><th>snatch</th><th>deadlift</th><th>backsq</th><th>pullups</th><th>eat</th><th>train</th><th>background</th><th>experience</th><th>schedule</th><th>howlong</th></tr></thead><tbody><tr><td>2554.0</td><td>Pj Ablang</td><td>South West</td><td>Double Edge</td><td>Double Edge CrossFit</td><td>Male</td><td>24.0</td><td>70.0</td><td>166.0</td><td>null</td><td>null</td><td>null</td><td>null</td><td>null</td><td>null</td><td>null</td><td>220.0</td><td>null</td><td>400.0</td><td>305.0</td><td>null</td><td>null</td><td>I workout mostly at a CrossFit Affiliate|I have a coach who determines my programming|I record my workouts|</td><td>I played youth or high school level sports|I regularly play recreational sports|</td><td>I began CrossFit with a coach (e.g. at an affiliate)|I have attended one or more specialty courses|I have had a life changing experience due to CrossFit|</td><td>I do multiple workouts in a day 2x a week|</td><td>4+ years|</td></tr><tr><td>3517.0</td><td>Derek Abdella</td><td>null</td><td>null</td><td>null</td><td>Male</td><td>42.0</td><td>70.0</td><td>190.0</td><td>null</td><td>null</td><td>null</td><td>null</td><td>0.0</td><td>null</td><td>null</td><td>null</td><td>null</td><td>null</td><td>null</td><td>null</td><td>null</td><td>I have a coach who determines my programming|I record my workouts|</td><td>I played youth or high school level sports|</td><td>I began CrossFit with a coach (e.g. at an affiliate)|I have attended one or more specialty courses|I have had a life changing experience due to CrossFit|</td><td>I do multiple workouts in a day 2x a week|</td><td>4+ years|</td></tr><tr><td>4691.0</td><td>null</td><td>null</td><td>null</td><td>null</td><td>null</td><td>null</td><td>null</td><td>null</td><td>null</td><td>null</td><td>null</td><td>null</td><td>null</td><td>null</td><td>null</td><td>null</td><td>null</td><td>null</td><td>null</td><td>null</td><td>null</td><td>null</td><td>null</td><td>null</td><td>null</td><td>null</td></tr><tr><td>5164.0</td><td>Abo Brandon</td><td>Southern California</td><td>LAX CrossFit</td><td>LAX CrossFit</td><td>Male</td><td>40.0</td><td>67.0</td><td>null</td><td>211.0</td><td>645.0</td><td>300.0</td><td>null</td><td>196.0</td><td>null</td><td>null</td><td>245.0</td><td>200.0</td><td>375.0</td><td>325.0</td><td>25.0</td><td>I eat 1-3 full cheat meals per week|</td><td>I workout mostly at a CrossFit Affiliate|I have a coach who determines my programming|I record my workouts|</td><td>I played youth or high school level sports|</td><td>I began CrossFit by trying it alone (without a coach)|I began CrossFit with a coach (e.g. at an affiliate)|I have completed the CrossFit Level 1 certificate course|I have attended one or more specialty courses|I have had a life changing experience due to CrossFit|I train other people|</td><td>I usually only do 1 workout a day|</td><td>4+ years|</td></tr><tr><td>5286.0</td><td>Bryce Abbey</td><td>null</td><td>null</td><td>null</td><td>Male</td><td>32.0</td><td>65.0</td><td>149.0</td><td>206.0</td><td>465.0</td><td>null</td><td>1053.0</td><td>null</td><td>null</td><td>1081.0</td><td>205.0</td><td>150.0</td><td>null</td><td>325.0</td><td>50.0</td><td>I eat quality foods but don't measure the amount|</td><td>I workout mostly at a CrossFit Affiliate|I incorporate CrossFit.com workouts|I write my own programming|I record my workouts|</td><td>I played college sports|</td><td>I began CrossFit by trying it alone (without a coach)|I have completed the CrossFit Level 1 certificate course|I train other people|</td><td>I usually only do 1 workout a day|I strictly schedule my rest days|</td><td>1-2 years|</td></tr><tr><td>6491.0</td><td>Jason Abney</td><td>null</td><td>null</td><td>null</td><td>Male</td><td>37.0</td><td>73.0</td><td>230.0</td><td>null</td><td>null</td><td>null</td><td>null</td><td>null</td><td>null</td><td>null</td><td>265.0</td><td>200.0</td><td>435.0</td><td>414.0</td><td>null</td><td>I eat strict Paleo|</td><td>I workout mostly at a CrossFit Affiliate|I record my workouts|</td><td>I played youth or high school level sports|</td><td>I began CrossFit by trying it alone (without a coach)|I have completed the CrossFit Level 1 certificate course|I have had a life changing experience due to CrossFit|I train other people|</td><td>I usually only do 1 workout a day|I typically rest 4 or more days per month|</td><td>4+ years|</td></tr><tr><td>6610.0</td><td>Anthony Abeel</td><td>South Central</td><td>Get Lifted</td><td>Get Lifted CrossFit</td><td>Male</td><td>21.0</td><td>72.0</td><td>175.0</td><td>null</td><td>null</td><td>null</td><td>null</td><td>0.0</td><td>null</td><td>null</td><td>0.0</td><td>0.0</td><td>0.0</td><td>0.0</td><td>0.0</td><td>I eat quality foods but don't measure the amount|I eat 1-3 full cheat meals per week|</td><td>I workout mostly at a CrossFit Affiliate|I have a coach who determines my programming|</td><td>I have no athletic background besides CrossFit|</td><td>I began CrossFit with a coach (e.g. at an affiliate)|I have completed the CrossFit Level 1 certificate course|I have had a life changing experience due to CrossFit|I train other people|</td><td>I do multiple workouts in a day 3+ times a week|I typically rest fewer than 4 days per month|</td><td>2-4 years|</td></tr><tr><td>7268.0</td><td>null</td><td>null</td><td>null</td><td>null</td><td>null</td><td>null</td><td>null</td><td>null</td><td>null</td><td>null</td><td>null</td><td>null</td><td>null</td><td>null</td><td>null</td><td>null</td><td>null</td><td>null</td><td>null</td><td>null</td><td>null</td><td>null</td><td>null</td><td>null</td><td>null</td><td>null</td></tr><tr><td>7463.0</td><td>Tye Abell</td><td>null</td><td>null</td><td>null</td><td>Male</td><td>30.0</td><td>72.0</td><td>175.0</td><td>null</td><td>null</td><td>null</td><td>null</td><td>0.0</td><td>null</td><td>null</td><td>0.0</td><td>0.0</td><td>0.0</td><td>0.0</td><td>0.0</td><td>null</td><td>null</td><td>null</td><td>null</td><td>null</td><td>null</td></tr><tr><td>8242.0</td><td>Ryan Achilles</td><td>null</td><td>null</td><td>null</td><td>Male</td><td>40.0</td><td>68.0</td><td>177.0</td><td>205.0</td><td>614.0</td><td>null</td><td>1647.0</td><td>332.0</td><td>null</td><td>1361.0</td><td>225.0</td><td>185.0</td><td>365.0</td><td>365.0</td><td>null</td><td>I eat quality foods but don't measure the amount|</td><td>I workout mostly at a CrossFit Affiliate|I record my workouts|</td><td>I played youth or high school level sports|I played college sports|</td><td>I began CrossFit by trying it alone (without a coach)|</td><td>I usually only do 1 workout a day|I typically rest 4 or more days per month|</td><td>2-4 years|</td></tr><tr><td>10890.0</td><td>Damian Abson</td><td>null</td><td>null</td><td>null</td><td>Male</td><td>42.0</td><td>69.0</td><td>214.0</td><td>null</td><td>null</td><td>200.0</td><td>null</td><td>400.0</td><td>null</td><td>null</td><td>231.0</td><td>null</td><td>507.0</td><td>364.0</td><td>null</td><td>null</td><td>null</td><td>null</td><td>null</td><td>null</td><td>null</td></tr><tr><td>11003.0</td><td>null</td><td>null</td><td>null</td><td>null</td><td>null</td><td>null</td><td>null</td><td>null</td><td>null</td><td>null</td><td>null</td><td>null</td><td>null</td><td>null</td><td>null</td><td>null</td><td>null</td><td>null</td><td>null</td><td>null</td><td>null</td><td>null</td><td>null</td><td>null</td><td>null</td><td>null</td></tr><tr><td>11416.0</td><td>Mike Abgarian</td><td>null</td><td>null</td><td>null</td><td>Male</td><td>31.0</td><td>65.0</td><td>150.0</td><td>119.0</td><td>417.0</td><td>103.0</td><td>971.0</td><td>421.0</td><td>61.0</td><td>1211.0</td><td>290.0</td><td>225.0</td><td>465.0</td><td>405.0</td><td>81.0</td><td>I eat quality foods but don't measure the amount|I eat 1-3 full cheat meals per week|</td><td>I workout mostly at a CrossFit Affiliate|I write my own programming|I record my workouts|</td><td>I played youth or high school level sports|I played college sports|I regularly play recreational sports|</td><td>I began CrossFit by trying it alone (without a coach)|I have completed the CrossFit Level 1 certificate course|I have attended one or more specialty courses|I have had a life changing experience due to CrossFit|I train other people|</td><td>I do multiple workouts in a day 3+ times a week|</td><td>2-4 years|</td></tr><tr><td>13285.0</td><td>Kipp Abbott</td><td>Central East</td><td>Fit Club</td><td>CrossFit 614</td><td>Male</td><td>43.0</td><td>71.0</td><td>185.0</td><td>null</td><td>null</td><td>null</td><td>null</td><td>null</td><td>null</td><td>null</td><td>0.0</td><td>0.0</td><td>0.0</td><td>0.0</td><td>0.0</td><td>I eat quality foods but don't measure the amount|</td><td>I workout mostly at a CrossFit Affiliate|</td><td>I have no athletic background besides CrossFit|</td><td>I began CrossFit with a coach (e.g. at an affiliate)|</td><td>I usually only do 1 workout a day|I typically rest 4 or more days per month|</td><td>2-4 years|</td></tr><tr><td>13576.0</td><td>Mikko Aaltonen</td><td>Europe</td><td>Reebok CrossFit 33100</td><td>Reebok CrossFit 33100</td><td>Male</td><td>37.0</td><td>null</td><td>null</td><td>null</td><td>null</td><td>null</td><td>null</td><td>null</td><td>null</td><td>null</td><td>null</td><td>null</td><td>null</td><td>null</td><td>null</td><td>null</td><td>null</td><td>null</td><td>null</td><td>null</td><td>null</td></tr><tr><td>14073.0</td><td>Ignacio Abascal</td><td>null</td><td>null</td><td>null</td><td>Male</td><td>23.0</td><td>72.0</td><td>165.0</td><td>null</td><td>485.0</td><td>null</td><td>null</td><td>0.0</td><td>null</td><td>null</td><td>220.0</td><td>187.0</td><td>419.0</td><td>0.0</td><td>55.0</td><td>I eat quality foods but don't measure the amount|</td><td>I workout mostly at a CrossFit Affiliate|I incorporate CrossFit.com workouts|I write my own programming|</td><td>I played youth or high school level sports|I played college sports|I regularly play recreational sports|</td><td>I began CrossFit with a coach (e.g. at an affiliate)|I have completed the CrossFit Level 1 certificate course|I have had a life changing experience due to CrossFit|I train other people|</td><td>I usually only do 1 workout a day|I do multiple workouts in a day 1x a week|I typically rest 4 or more days per month|</td><td>6-12 months|</td></tr><tr><td>15223.0</td><td>Dan Abbett</td><td>null</td><td>null</td><td>null</td><td>Male</td><td>43.0</td><td>66.0</td><td>175.0</td><td>304.0</td><td>null</td><td>null</td><td>null</td><td>306.0</td><td>null</td><td>null</td><td>180.0</td><td>135.0</td><td>null</td><td>null</td><td>null</td><td>I eat quality foods but don't measure the amount|</td><td>I workout mostly at a CrossFit Affiliate|</td><td>I played youth or high school level sports|</td><td>I began CrossFit with a coach (e.g. at an affiliate)|</td><td>I usually only do 1 workout a day|I typically rest 4 or more days per month|</td><td>1-2 years|</td></tr><tr><td>16068.0</td><td>Allan Abt</td><td>null</td><td>null</td><td>null</td><td>Male</td><td>27.0</td><td>74.0</td><td>187.0</td><td>null</td><td>null</td><td>null</td><td>null</td><td>null</td><td>null</td><td>null</td><td>null</td><td>null</td><td>null</td><td>null</td><td>null</td><td>I eat quality foods but don't measure the amount|</td><td>I workout mostly at a CrossFit Affiliate|</td><td>I regularly play recreational sports|</td><td>I began CrossFit with a coach (e.g. at an affiliate)|</td><td>null</td><td>6-12 months|</td></tr><tr><td>17658.0</td><td>Ryan Abbott</td><td>Central East</td><td>New Species CrossFit</td><td>CrossFit New Species</td><td>Male</td><td>30.0</td><td>70.0</td><td>155.0</td><td>null</td><td>544.0</td><td>null</td><td>1455.0</td><td>null</td><td>null</td><td>1140.0</td><td>175.0</td><td>95.0</td><td>335.0</td><td>235.0</td><td>null</td><td>null</td><td>null</td><td>null</td><td>null</td><td>null</td><td>null</td></tr><tr><td>17745.0</td><td>null</td><td>null</td><td>null</td><td>null</td><td>null</td><td>null</td><td>null</td><td>null</td><td>null</td><td>null</td><td>null</td><td>null</td><td>null</td><td>null</td><td>null</td><td>null</td><td>null</td><td>null</td><td>null</td><td>null</td><td>null</td><td>null</td><td>null</td><td>null</td><td>null</td><td>null</td></tr></tbody></table></div>"
      ]
     },
     "metadata": {
      "application/vnd.databricks.v1+output": {
       "addedWidgets": {},
       "aggData": [],
       "aggError": "",
       "aggOverflow": false,
       "aggSchema": [],
       "aggSeriesLimitReached": false,
       "aggType": "",
       "arguments": {},
       "columnCustomDisplayInfos": {},
       "data": [
        [
         "2554.0",
         "Pj Ablang",
         "South West",
         "Double Edge",
         "Double Edge CrossFit",
         "Male",
         "24.0",
         "70.0",
         "166.0",
         null,
         null,
         null,
         null,
         null,
         null,
         null,
         "220.0",
         null,
         "400.0",
         "305.0",
         null,
         null,
         "I workout mostly at a CrossFit Affiliate|I have a coach who determines my programming|I record my workouts|",
         "I played youth or high school level sports|I regularly play recreational sports|",
         "I began CrossFit with a coach (e.g. at an affiliate)|I have attended one or more specialty courses|I have had a life changing experience due to CrossFit|",
         "I do multiple workouts in a day 2x a week|",
         "4+ years|"
        ],
        [
         "3517.0",
         "Derek Abdella",
         null,
         null,
         null,
         "Male",
         "42.0",
         "70.0",
         "190.0",
         null,
         null,
         null,
         null,
         "0.0",
         null,
         null,
         null,
         null,
         null,
         null,
         null,
         null,
         "I have a coach who determines my programming|I record my workouts|",
         "I played youth or high school level sports|",
         "I began CrossFit with a coach (e.g. at an affiliate)|I have attended one or more specialty courses|I have had a life changing experience due to CrossFit|",
         "I do multiple workouts in a day 2x a week|",
         "4+ years|"
        ],
        [
         "4691.0",
         null,
         null,
         null,
         null,
         null,
         null,
         null,
         null,
         null,
         null,
         null,
         null,
         null,
         null,
         null,
         null,
         null,
         null,
         null,
         null,
         null,
         null,
         null,
         null,
         null,
         null
        ],
        [
         "5164.0",
         "Abo Brandon",
         "Southern California",
         "LAX CrossFit",
         "LAX CrossFit",
         "Male",
         "40.0",
         "67.0",
         null,
         "211.0",
         "645.0",
         "300.0",
         null,
         "196.0",
         null,
         null,
         "245.0",
         "200.0",
         "375.0",
         "325.0",
         "25.0",
         "I eat 1-3 full cheat meals per week|",
         "I workout mostly at a CrossFit Affiliate|I have a coach who determines my programming|I record my workouts|",
         "I played youth or high school level sports|",
         "I began CrossFit by trying it alone (without a coach)|I began CrossFit with a coach (e.g. at an affiliate)|I have completed the CrossFit Level 1 certificate course|I have attended one or more specialty courses|I have had a life changing experience due to CrossFit|I train other people|",
         "I usually only do 1 workout a day|",
         "4+ years|"
        ],
        [
         "5286.0",
         "Bryce Abbey",
         null,
         null,
         null,
         "Male",
         "32.0",
         "65.0",
         "149.0",
         "206.0",
         "465.0",
         null,
         "1053.0",
         null,
         null,
         "1081.0",
         "205.0",
         "150.0",
         null,
         "325.0",
         "50.0",
         "I eat quality foods but don't measure the amount|",
         "I workout mostly at a CrossFit Affiliate|I incorporate CrossFit.com workouts|I write my own programming|I record my workouts|",
         "I played college sports|",
         "I began CrossFit by trying it alone (without a coach)|I have completed the CrossFit Level 1 certificate course|I train other people|",
         "I usually only do 1 workout a day|I strictly schedule my rest days|",
         "1-2 years|"
        ],
        [
         "6491.0",
         "Jason Abney",
         null,
         null,
         null,
         "Male",
         "37.0",
         "73.0",
         "230.0",
         null,
         null,
         null,
         null,
         null,
         null,
         null,
         "265.0",
         "200.0",
         "435.0",
         "414.0",
         null,
         "I eat strict Paleo|",
         "I workout mostly at a CrossFit Affiliate|I record my workouts|",
         "I played youth or high school level sports|",
         "I began CrossFit by trying it alone (without a coach)|I have completed the CrossFit Level 1 certificate course|I have had a life changing experience due to CrossFit|I train other people|",
         "I usually only do 1 workout a day|I typically rest 4 or more days per month|",
         "4+ years|"
        ],
        [
         "6610.0",
         "Anthony Abeel",
         "South Central",
         "Get Lifted",
         "Get Lifted CrossFit",
         "Male",
         "21.0",
         "72.0",
         "175.0",
         null,
         null,
         null,
         null,
         "0.0",
         null,
         null,
         "0.0",
         "0.0",
         "0.0",
         "0.0",
         "0.0",
         "I eat quality foods but don't measure the amount|I eat 1-3 full cheat meals per week|",
         "I workout mostly at a CrossFit Affiliate|I have a coach who determines my programming|",
         "I have no athletic background besides CrossFit|",
         "I began CrossFit with a coach (e.g. at an affiliate)|I have completed the CrossFit Level 1 certificate course|I have had a life changing experience due to CrossFit|I train other people|",
         "I do multiple workouts in a day 3+ times a week|I typically rest fewer than 4 days per month|",
         "2-4 years|"
        ],
        [
         "7268.0",
         null,
         null,
         null,
         null,
         null,
         null,
         null,
         null,
         null,
         null,
         null,
         null,
         null,
         null,
         null,
         null,
         null,
         null,
         null,
         null,
         null,
         null,
         null,
         null,
         null,
         null
        ],
        [
         "7463.0",
         "Tye Abell",
         null,
         null,
         null,
         "Male",
         "30.0",
         "72.0",
         "175.0",
         null,
         null,
         null,
         null,
         "0.0",
         null,
         null,
         "0.0",
         "0.0",
         "0.0",
         "0.0",
         "0.0",
         null,
         null,
         null,
         null,
         null,
         null
        ],
        [
         "8242.0",
         "Ryan Achilles",
         null,
         null,
         null,
         "Male",
         "40.0",
         "68.0",
         "177.0",
         "205.0",
         "614.0",
         null,
         "1647.0",
         "332.0",
         null,
         "1361.0",
         "225.0",
         "185.0",
         "365.0",
         "365.0",
         null,
         "I eat quality foods but don't measure the amount|",
         "I workout mostly at a CrossFit Affiliate|I record my workouts|",
         "I played youth or high school level sports|I played college sports|",
         "I began CrossFit by trying it alone (without a coach)|",
         "I usually only do 1 workout a day|I typically rest 4 or more days per month|",
         "2-4 years|"
        ],
        [
         "10890.0",
         "Damian Abson",
         null,
         null,
         null,
         "Male",
         "42.0",
         "69.0",
         "214.0",
         null,
         null,
         "200.0",
         null,
         "400.0",
         null,
         null,
         "231.0",
         null,
         "507.0",
         "364.0",
         null,
         null,
         null,
         null,
         null,
         null,
         null
        ],
        [
         "11003.0",
         null,
         null,
         null,
         null,
         null,
         null,
         null,
         null,
         null,
         null,
         null,
         null,
         null,
         null,
         null,
         null,
         null,
         null,
         null,
         null,
         null,
         null,
         null,
         null,
         null,
         null
        ],
        [
         "11416.0",
         "Mike Abgarian",
         null,
         null,
         null,
         "Male",
         "31.0",
         "65.0",
         "150.0",
         "119.0",
         "417.0",
         "103.0",
         "971.0",
         "421.0",
         "61.0",
         "1211.0",
         "290.0",
         "225.0",
         "465.0",
         "405.0",
         "81.0",
         "I eat quality foods but don't measure the amount|I eat 1-3 full cheat meals per week|",
         "I workout mostly at a CrossFit Affiliate|I write my own programming|I record my workouts|",
         "I played youth or high school level sports|I played college sports|I regularly play recreational sports|",
         "I began CrossFit by trying it alone (without a coach)|I have completed the CrossFit Level 1 certificate course|I have attended one or more specialty courses|I have had a life changing experience due to CrossFit|I train other people|",
         "I do multiple workouts in a day 3+ times a week|",
         "2-4 years|"
        ],
        [
         "13285.0",
         "Kipp Abbott",
         "Central East",
         "Fit Club",
         "CrossFit 614",
         "Male",
         "43.0",
         "71.0",
         "185.0",
         null,
         null,
         null,
         null,
         null,
         null,
         null,
         "0.0",
         "0.0",
         "0.0",
         "0.0",
         "0.0",
         "I eat quality foods but don't measure the amount|",
         "I workout mostly at a CrossFit Affiliate|",
         "I have no athletic background besides CrossFit|",
         "I began CrossFit with a coach (e.g. at an affiliate)|",
         "I usually only do 1 workout a day|I typically rest 4 or more days per month|",
         "2-4 years|"
        ],
        [
         "13576.0",
         "Mikko Aaltonen",
         "Europe",
         "Reebok CrossFit 33100",
         "Reebok CrossFit 33100",
         "Male",
         "37.0",
         null,
         null,
         null,
         null,
         null,
         null,
         null,
         null,
         null,
         null,
         null,
         null,
         null,
         null,
         null,
         null,
         null,
         null,
         null,
         null
        ],
        [
         "14073.0",
         "Ignacio Abascal",
         null,
         null,
         null,
         "Male",
         "23.0",
         "72.0",
         "165.0",
         null,
         "485.0",
         null,
         null,
         "0.0",
         null,
         null,
         "220.0",
         "187.0",
         "419.0",
         "0.0",
         "55.0",
         "I eat quality foods but don't measure the amount|",
         "I workout mostly at a CrossFit Affiliate|I incorporate CrossFit.com workouts|I write my own programming|",
         "I played youth or high school level sports|I played college sports|I regularly play recreational sports|",
         "I began CrossFit with a coach (e.g. at an affiliate)|I have completed the CrossFit Level 1 certificate course|I have had a life changing experience due to CrossFit|I train other people|",
         "I usually only do 1 workout a day|I do multiple workouts in a day 1x a week|I typically rest 4 or more days per month|",
         "6-12 months|"
        ],
        [
         "15223.0",
         "Dan Abbett",
         null,
         null,
         null,
         "Male",
         "43.0",
         "66.0",
         "175.0",
         "304.0",
         null,
         null,
         null,
         "306.0",
         null,
         null,
         "180.0",
         "135.0",
         null,
         null,
         null,
         "I eat quality foods but don't measure the amount|",
         "I workout mostly at a CrossFit Affiliate|",
         "I played youth or high school level sports|",
         "I began CrossFit with a coach (e.g. at an affiliate)|",
         "I usually only do 1 workout a day|I typically rest 4 or more days per month|",
         "1-2 years|"
        ],
        [
         "16068.0",
         "Allan Abt",
         null,
         null,
         null,
         "Male",
         "27.0",
         "74.0",
         "187.0",
         null,
         null,
         null,
         null,
         null,
         null,
         null,
         null,
         null,
         null,
         null,
         null,
         "I eat quality foods but don't measure the amount|",
         "I workout mostly at a CrossFit Affiliate|",
         "I regularly play recreational sports|",
         "I began CrossFit with a coach (e.g. at an affiliate)|",
         null,
         "6-12 months|"
        ],
        [
         "17658.0",
         "Ryan Abbott",
         "Central East",
         "New Species CrossFit",
         "CrossFit New Species",
         "Male",
         "30.0",
         "70.0",
         "155.0",
         null,
         "544.0",
         null,
         "1455.0",
         null,
         null,
         "1140.0",
         "175.0",
         "95.0",
         "335.0",
         "235.0",
         null,
         null,
         null,
         null,
         null,
         null,
         null
        ],
        [
         "17745.0",
         null,
         null,
         null,
         null,
         null,
         null,
         null,
         null,
         null,
         null,
         null,
         null,
         null,
         null,
         null,
         null,
         null,
         null,
         null,
         null,
         null,
         null,
         null,
         null,
         null,
         null
        ]
       ],
       "datasetInfos": [],
       "dbfsResultPath": null,
       "isJsonSchema": true,
       "metadata": {},
       "overflow": false,
       "plotOptions": {
        "customPlotOptions": {},
        "displayType": "table",
        "pivotAggregation": null,
        "pivotColumns": null,
        "xColumns": null,
        "yColumns": null
       },
       "removedWidgets": [],
       "schema": [
        {
         "metadata": "{}",
         "name": "athlete_id",
         "type": "\"string\""
        },
        {
         "metadata": "{}",
         "name": "name",
         "type": "\"string\""
        },
        {
         "metadata": "{}",
         "name": "region",
         "type": "\"string\""
        },
        {
         "metadata": "{}",
         "name": "team",
         "type": "\"string\""
        },
        {
         "metadata": "{}",
         "name": "affiliate",
         "type": "\"string\""
        },
        {
         "metadata": "{}",
         "name": "gender",
         "type": "\"string\""
        },
        {
         "metadata": "{}",
         "name": "age",
         "type": "\"string\""
        },
        {
         "metadata": "{}",
         "name": "height",
         "type": "\"string\""
        },
        {
         "metadata": "{}",
         "name": "weight",
         "type": "\"string\""
        },
        {
         "metadata": "{}",
         "name": "fran",
         "type": "\"string\""
        },
        {
         "metadata": "{}",
         "name": "helen",
         "type": "\"string\""
        },
        {
         "metadata": "{}",
         "name": "grace",
         "type": "\"string\""
        },
        {
         "metadata": "{}",
         "name": "filthy50",
         "type": "\"string\""
        },
        {
         "metadata": "{}",
         "name": "fgonebad",
         "type": "\"string\""
        },
        {
         "metadata": "{}",
         "name": "run400",
         "type": "\"string\""
        },
        {
         "metadata": "{}",
         "name": "run5k",
         "type": "\"string\""
        },
        {
         "metadata": "{}",
         "name": "candj",
         "type": "\"string\""
        },
        {
         "metadata": "{}",
         "name": "snatch",
         "type": "\"string\""
        },
        {
         "metadata": "{}",
         "name": "deadlift",
         "type": "\"string\""
        },
        {
         "metadata": "{}",
         "name": "backsq",
         "type": "\"string\""
        },
        {
         "metadata": "{}",
         "name": "pullups",
         "type": "\"string\""
        },
        {
         "metadata": "{}",
         "name": "eat",
         "type": "\"string\""
        },
        {
         "metadata": "{}",
         "name": "train",
         "type": "\"string\""
        },
        {
         "metadata": "{}",
         "name": "background",
         "type": "\"string\""
        },
        {
         "metadata": "{}",
         "name": "experience",
         "type": "\"string\""
        },
        {
         "metadata": "{}",
         "name": "schedule",
         "type": "\"string\""
        },
        {
         "metadata": "{}",
         "name": "howlong",
         "type": "\"string\""
        }
       ],
       "type": "table"
      }
     },
     "output_type": "display_data"
    }
   ],
   "source": [
    "display(crossfit_athletes_df.limit(20))"
   ]
  },
  {
   "cell_type": "markdown",
   "metadata": {
    "application/vnd.databricks.v1+cell": {
     "cellMetadata": {},
     "inputWidgets": {},
     "nuid": "8dfbe369-2290-4d67-917a-4fdab0b78774",
     "showTitle": false,
     "title": ""
    }
   },
   "source": [
    "## NFL Combine Results (2000 - 2022)\n",
    "source: https://www.kaggle.com/datasets/mitchellweg1/nfl-combine-results-dataset-2000-2022"
   ]
  },
  {
   "cell_type": "code",
   "execution_count": 0,
   "metadata": {
    "application/vnd.databricks.v1+cell": {
     "cellMetadata": {
      "byteLimit": 2048000,
      "rowLimit": 10000
     },
     "inputWidgets": {},
     "nuid": "6a240020-88f3-4834-a979-cc452de27a67",
     "showTitle": false,
     "title": ""
    }
   },
   "outputs": [
    {
     "output_type": "display_data",
     "data": {
      "text/html": [
       "<style scoped>\n",
       "  .table-result-container {\n",
       "    max-height: 300px;\n",
       "    overflow: auto;\n",
       "  }\n",
       "  table, th, td {\n",
       "    border: 1px solid black;\n",
       "    border-collapse: collapse;\n",
       "  }\n",
       "  th, td {\n",
       "    padding: 5px;\n",
       "  }\n",
       "  th {\n",
       "    text-align: left;\n",
       "  }\n",
       "</style><div class='table-result-container'><table class='table-result'><thead style='background-color: white'><tr><th>Player</th><th>Pos</th><th>School</th><th>Ht</th><th>Wt</th><th>40yd</th><th>Vertical</th><th>Bench</th><th>Broad Jump</th><th>3Cone</th><th>Shuttle</th><th>csvfilename_year</th></tr></thead><tbody><tr><td>John Abraham</td><td>OLB</td><td>South Carolina</td><td>6-4</td><td>252.0</td><td>4.55</td><td>null</td><td>null</td><td>null</td><td>null</td><td>null</td><td>2000</td></tr><tr><td>Shaun Alexander</td><td>RB</td><td>Alabama</td><td>6-0</td><td>218.0</td><td>4.58</td><td>null</td><td>null</td><td>null</td><td>null</td><td>null</td><td>2000</td></tr><tr><td>Darnell Alford</td><td>OT</td><td>Boston Col.</td><td>6-4</td><td>334.0</td><td>5.56</td><td>25.0</td><td>23.0</td><td>94.0</td><td>8.48</td><td>4.98</td><td>2000</td></tr><tr><td>Kyle Allamon</td><td>TE</td><td>Texas Tech</td><td>6-2</td><td>253.0</td><td>4.97</td><td>29.0</td><td>null</td><td>104.0</td><td>7.29</td><td>4.49</td><td>2000</td></tr><tr><td>Rashard Anderson</td><td>CB</td><td>Jackson State</td><td>6-2</td><td>206.0</td><td>4.55</td><td>34.0</td><td>null</td><td>123.0</td><td>7.18</td><td>4.15</td><td>2000</td></tr><tr><td>Jake Arians</td><td>K</td><td>Ala-Birmingham</td><td>5-10</td><td>202.0</td><td>null</td><td>null</td><td>null</td><td>null</td><td>null</td><td>null</td><td>2000</td></tr><tr><td>LaVar Arrington</td><td>OLB</td><td>Penn State</td><td>6-3</td><td>250.0</td><td>4.53</td><td>null</td><td>null</td><td>null</td><td>null</td><td>null</td><td>2000</td></tr><tr><td>Corey Atkins</td><td>OLB</td><td>South Carolina</td><td>6-0</td><td>237.0</td><td>4.72</td><td>31.0</td><td>21.0</td><td>112.0</td><td>7.96</td><td>4.39</td><td>2000</td></tr><tr><td>Kyle Atteberry</td><td>K</td><td>Baylor</td><td>6-0</td><td>167.0</td><td>null</td><td>null</td><td>null</td><td>null</td><td>null</td><td>null</td><td>2000</td></tr><tr><td>Reggie Austin</td><td>CB</td><td>Wake Forest</td><td>5-9</td><td>175.0</td><td>4.44</td><td>35.0</td><td>17.0</td><td>119.0</td><td>7.03</td><td>4.14</td><td>2000</td></tr><tr><td>John Baker</td><td>P</td><td>North Texas</td><td>6-3</td><td>227.0</td><td>null</td><td>null</td><td>null</td><td>null</td><td>null</td><td>null</td><td>2000</td></tr><tr><td>Mark Baniewicz</td><td>OT</td><td>Syracuse</td><td>6-6</td><td>312.0</td><td>5.34</td><td>28.0</td><td>20.0</td><td>96.0</td><td>7.72</td><td>4.73</td><td>2000</td></tr><tr><td>Rashidi Barnes</td><td>S</td><td>Colorado</td><td>6-0</td><td>208.0</td><td>4.62</td><td>35.0</td><td>10.0</td><td>114.0</td><td>6.92</td><td>4.32</td><td>2000</td></tr><tr><td>David Barrett</td><td>CB</td><td>Arkansas</td><td>5-10</td><td>199.0</td><td>4.44</td><td>37.5</td><td>16.0</td><td>116.0</td><td>6.81</td><td>4.04</td><td>2000</td></tr><tr><td>William Bartee</td><td>CB</td><td>Oklahoma</td><td>6-1</td><td>192.0</td><td>4.43</td><td>38.5</td><td>null</td><td>124.0</td><td>6.7</td><td>3.99</td><td>2000</td></tr><tr><td>Andrew Bayes</td><td>P</td><td>East Carolina</td><td>6-2</td><td>200.0</td><td>null</td><td>null</td><td>null</td><td>null</td><td>null</td><td>null</td><td>2000</td></tr><tr><td>Terrance Beadles</td><td>OG</td><td>Ark-Pine Bluff</td><td>6-3</td><td>312.0</td><td>5.19</td><td>null</td><td>29.0</td><td>null</td><td>null</td><td>null</td><td>2000</td></tr><tr><td>Robert Bean</td><td>CB</td><td>Mississippi State</td><td>5-11</td><td>178.0</td><td>4.5</td><td>34.5</td><td>null</td><td>122.0</td><td>6.87</td><td>4.2</td><td>2000</td></tr><tr><td>Anthony Becht</td><td>TE</td><td>West Virginia</td><td>6-6</td><td>270.0</td><td>4.78</td><td>33.5</td><td>null</td><td>123.0</td><td>6.94</td><td>4.08</td><td>2000</td></tr><tr><td>Matt Beck</td><td>ILB</td><td>California</td><td>6-3</td><td>234.0</td><td>4.65</td><td>null</td><td>null</td><td>null</td><td>null</td><td>null</td><td>2000</td></tr></tbody></table></div>"
      ]
     },
     "metadata": {
      "application/vnd.databricks.v1+output": {
       "addedWidgets": {},
       "aggData": [],
       "aggError": "",
       "aggOverflow": false,
       "aggSchema": [],
       "aggSeriesLimitReached": false,
       "aggType": "",
       "arguments": {},
       "columnCustomDisplayInfos": {},
       "data": [
        [
         "John Abraham",
         "OLB",
         "South Carolina",
         "6-4",
         "252.0",
         "4.55",
         null,
         null,
         null,
         null,
         null,
         "2000"
        ],
        [
         "Shaun Alexander",
         "RB",
         "Alabama",
         "6-0",
         "218.0",
         "4.58",
         null,
         null,
         null,
         null,
         null,
         "2000"
        ],
        [
         "Darnell Alford",
         "OT",
         "Boston Col.",
         "6-4",
         "334.0",
         "5.56",
         "25.0",
         "23.0",
         "94.0",
         "8.48",
         "4.98",
         "2000"
        ],
        [
         "Kyle Allamon",
         "TE",
         "Texas Tech",
         "6-2",
         "253.0",
         "4.97",
         "29.0",
         null,
         "104.0",
         "7.29",
         "4.49",
         "2000"
        ],
        [
         "Rashard Anderson",
         "CB",
         "Jackson State",
         "6-2",
         "206.0",
         "4.55",
         "34.0",
         null,
         "123.0",
         "7.18",
         "4.15",
         "2000"
        ],
        [
         "Jake Arians",
         "K",
         "Ala-Birmingham",
         "5-10",
         "202.0",
         null,
         null,
         null,
         null,
         null,
         null,
         "2000"
        ],
        [
         "LaVar Arrington",
         "OLB",
         "Penn State",
         "6-3",
         "250.0",
         "4.53",
         null,
         null,
         null,
         null,
         null,
         "2000"
        ],
        [
         "Corey Atkins",
         "OLB",
         "South Carolina",
         "6-0",
         "237.0",
         "4.72",
         "31.0",
         "21.0",
         "112.0",
         "7.96",
         "4.39",
         "2000"
        ],
        [
         "Kyle Atteberry",
         "K",
         "Baylor",
         "6-0",
         "167.0",
         null,
         null,
         null,
         null,
         null,
         null,
         "2000"
        ],
        [
         "Reggie Austin",
         "CB",
         "Wake Forest",
         "5-9",
         "175.0",
         "4.44",
         "35.0",
         "17.0",
         "119.0",
         "7.03",
         "4.14",
         "2000"
        ],
        [
         "John Baker",
         "P",
         "North Texas",
         "6-3",
         "227.0",
         null,
         null,
         null,
         null,
         null,
         null,
         "2000"
        ],
        [
         "Mark Baniewicz",
         "OT",
         "Syracuse",
         "6-6",
         "312.0",
         "5.34",
         "28.0",
         "20.0",
         "96.0",
         "7.72",
         "4.73",
         "2000"
        ],
        [
         "Rashidi Barnes",
         "S",
         "Colorado",
         "6-0",
         "208.0",
         "4.62",
         "35.0",
         "10.0",
         "114.0",
         "6.92",
         "4.32",
         "2000"
        ],
        [
         "David Barrett",
         "CB",
         "Arkansas",
         "5-10",
         "199.0",
         "4.44",
         "37.5",
         "16.0",
         "116.0",
         "6.81",
         "4.04",
         "2000"
        ],
        [
         "William Bartee",
         "CB",
         "Oklahoma",
         "6-1",
         "192.0",
         "4.43",
         "38.5",
         null,
         "124.0",
         "6.7",
         "3.99",
         "2000"
        ],
        [
         "Andrew Bayes",
         "P",
         "East Carolina",
         "6-2",
         "200.0",
         null,
         null,
         null,
         null,
         null,
         null,
         "2000"
        ],
        [
         "Terrance Beadles",
         "OG",
         "Ark-Pine Bluff",
         "6-3",
         "312.0",
         "5.19",
         null,
         "29.0",
         null,
         null,
         null,
         "2000"
        ],
        [
         "Robert Bean",
         "CB",
         "Mississippi State",
         "5-11",
         "178.0",
         "4.5",
         "34.5",
         null,
         "122.0",
         "6.87",
         "4.2",
         "2000"
        ],
        [
         "Anthony Becht",
         "TE",
         "West Virginia",
         "6-6",
         "270.0",
         "4.78",
         "33.5",
         null,
         "123.0",
         "6.94",
         "4.08",
         "2000"
        ],
        [
         "Matt Beck",
         "ILB",
         "California",
         "6-3",
         "234.0",
         "4.65",
         null,
         null,
         null,
         null,
         null,
         "2000"
        ]
       ],
       "datasetInfos": [],
       "dbfsResultPath": null,
       "isJsonSchema": true,
       "metadata": {},
       "overflow": false,
       "plotOptions": {
        "customPlotOptions": {},
        "displayType": "table",
        "pivotAggregation": null,
        "pivotColumns": null,
        "xColumns": null,
        "yColumns": null
       },
       "removedWidgets": [],
       "schema": [
        {
         "metadata": "{}",
         "name": "Player",
         "type": "\"string\""
        },
        {
         "metadata": "{}",
         "name": "Pos",
         "type": "\"string\""
        },
        {
         "metadata": "{}",
         "name": "School",
         "type": "\"string\""
        },
        {
         "metadata": "{}",
         "name": "Ht",
         "type": "\"string\""
        },
        {
         "metadata": "{}",
         "name": "Wt",
         "type": "\"string\""
        },
        {
         "metadata": "{}",
         "name": "40yd",
         "type": "\"string\""
        },
        {
         "metadata": "{}",
         "name": "Vertical",
         "type": "\"string\""
        },
        {
         "metadata": "{}",
         "name": "Bench",
         "type": "\"string\""
        },
        {
         "metadata": "{}",
         "name": "Broad Jump",
         "type": "\"string\""
        },
        {
         "metadata": "{}",
         "name": "3Cone",
         "type": "\"string\""
        },
        {
         "metadata": "{}",
         "name": "Shuttle",
         "type": "\"string\""
        },
        {
         "metadata": "{}",
         "name": "csvfilename_year",
         "type": "\"string\""
        }
       ],
       "type": "table"
      }
     },
     "output_type": "display_data"
    }
   ],
   "source": [
    "display(nfl_combine_results_df.limit(20))"
   ]
  },
  {
   "cell_type": "markdown",
   "metadata": {
    "application/vnd.databricks.v1+cell": {
     "cellMetadata": {
      "byteLimit": 2048000,
      "rowLimit": 10000
     },
     "inputWidgets": {},
     "nuid": "edcb0c00-ff40-4324-8a51-66ac730f9159",
     "showTitle": false,
     "title": ""
    }
   },
   "source": [
    "# Verify Manually Scraped Dataset"
   ]
  },
  {
   "cell_type": "markdown",
   "metadata": {
    "application/vnd.databricks.v1+cell": {
     "cellMetadata": {},
     "inputWidgets": {},
     "nuid": "9f07400b-84be-4ba6-9646-0644de857182",
     "showTitle": false,
     "title": ""
    }
   },
   "source": [
    "## World Athletics\n",
    "source: https://mastersrankings.com/rankings/\n",
    "\n",
    "Verify values are showing correctly, especially for performance, athlete name, and age."
   ]
  },
  {
   "cell_type": "code",
   "execution_count": 0,
   "metadata": {
    "application/vnd.databricks.v1+cell": {
     "cellMetadata": {
      "byteLimit": 2048000,
      "rowLimit": 10000
     },
     "inputWidgets": {},
     "nuid": "1e3ff566-5877-4aad-9e68-d1f8e1683b2d",
     "showTitle": false,
     "title": ""
    }
   },
   "outputs": [
    {
     "output_type": "display_data",
     "data": {
      "text/html": [
       "<style scoped>\n",
       "  .table-result-container {\n",
       "    max-height: 300px;\n",
       "    overflow: auto;\n",
       "  }\n",
       "  table, th, td {\n",
       "    border: 1px solid black;\n",
       "    border-collapse: collapse;\n",
       "  }\n",
       "  th, td {\n",
       "    padding: 5px;\n",
       "  }\n",
       "  th {\n",
       "    text-align: left;\n",
       "  }\n",
       "</style><div class='table-result-container'><table class='table-result'><thead style='background-color: white'><tr><th>Rank</th><th>Performance</th><th>Wind</th><th>Athlete</th><th>Age</th><th>Country</th><th>Location</th><th>Date</th></tr></thead><tbody><tr><td>1</td><td>9.85</td><td>(+1.0)</td><td>Yohan Blake</td><td>32</td><td>JAM</td><td>Kingston, JAM</td><td>23 Jun 22 - 26 Jun 22</td></tr><tr><td>2</td><td>9.93</td><td>(+2.9)</td><td>Mouhamadou Fall</td><td>30</td><td>FRA</td><td>Montverde, FL, USA</td><td>4 Jun 22</td></tr><tr><td>3</td><td>9.98</td><td>(+1.1)</td><td>Emmanuel Matadi</td><td>31</td><td>LBR</td><td>Port-of-Spain, TTO</td><td>24 Jun 22 - 26 Jun 22</td></tr><tr><td>4</td><td>10.00</td><td>(+5.6)</td><td>Harry Aikines-Aryeetey</td><td>33</td><td>GBR</td><td>Manchester, GBR</td><td>24 Jun 22 - 26 Jun 22</td></tr><tr><td>5</td><td>10.03</td><td>(+1.2)</td><td>Oshane Bailey</td><td>32</td><td>JAM</td><td>Kingston, JAM</td><td>23 Jun 22 - 26 Jun 22</td></tr><tr><td>6</td><td>10.04</td><td>(+0.6)</td><td>Kemar Bailey-Cole</td><td>30</td><td>JAM</td><td>Kingston, JAM</td><td>23 Jun 22 - 26 Jun 22</td></tr><tr><td>7</td><td>10.05</td><td>(+2.1)</td><td>Emile Erasmus</td><td>30</td><td>RSA</td><td>København, DEN</td><td>16 Jun 22</td></tr><tr><td>8</td><td>10.06</td><td>(-0.3 )</td><td>Aaron Brown</td><td>30</td><td>CAN</td><td>Zürich, SUI</td><td>7 Sep 22 - 8 Sep 22</td></tr><tr><td>9</td><td>10.07</td><td>(+2.3)</td><td>Jimmy Vicaut</td><td>30</td><td>FRA</td><td>Savona, ITA</td><td>18 May 22</td></tr><tr><td>10</td><td>10.09</td><td>(+1.2)</td><td>Kukyoung Kim</td><td>31</td><td>KOR</td><td>Tottori, JPN</td><td>25 Jun 22 - 26 Jun 22</td></tr><tr><td>11</td><td>10.10</td><td>(+1.4)</td><td>Isiah Young</td><td>32</td><td>USA</td><td>Eugene, OR, USA</td><td>23 Jun 22 - 26 Jun 22</td></tr><tr><td>12</td><td>10.12</td><td>(+2.7)</td><td>Pascal Mancini</td><td>33</td><td>SUI</td><td>Bulle, SUI</td><td>9 Jul 22</td></tr><tr><td>13</td><td>10.15</td><td>(+0.1)</td><td>Bingtian Su</td><td>32</td><td>CHN</td><td>Eugene, OR, USA</td><td>15 Jul 22 - 22 Jul 22</td></tr><tr><td>13</td><td>10.15</td><td>(+2.1)</td><td>Chris Royster</td><td>30</td><td>USA</td><td>Nashville, TN, USA</td><td>3 Jun 22 - 5 Jun 22</td></tr><tr><td>15</td><td>10.17</td><td>(+1.0)</td><td>Alonso Edward</td><td>32</td><td>PAN</td><td>Valledupar, COL</td><td>1 Jul 22 - 4 Jul 22</td></tr><tr><td>16</td><td>10.18</td><td>(+2.4)</td><td>Eugene Amo-Dadzie</td><td>30</td><td>GBR</td><td>Bedford, GBR</td><td>30 Jul 22 - 31 Jul 22</td></tr><tr><td>17</td><td>10.20</td><td>(+0.1)</td><td>Brendon Rodney</td><td>30</td><td>CAN</td><td>Ostrava, CZE</td><td>31 May 22</td></tr><tr><td>18</td><td>10.22</td><td>(-0.1)</td><td>Emre Zafer Barnes</td><td>33</td><td>TUR</td><td>Bursa, TUR</td><td>25 Aug 22 - 26 Aug 22</td></tr><tr><td>18</td><td>10.22</td><td>(+0.1)</td><td>Rasheed Dwyer</td><td>33</td><td>JAM</td><td>Marietta, GA, USA</td><td>2 Jul 22</td></tr><tr><td>18</td><td>10.22</td><td>(+0.4)</td><td>Andrew Robertson</td><td>31</td><td>GBR</td><td>Dublin, IRL</td><td>2 Jul 22</td></tr></tbody></table></div>"
      ]
     },
     "metadata": {
      "application/vnd.databricks.v1+output": {
       "addedWidgets": {},
       "aggData": [],
       "aggError": "",
       "aggOverflow": false,
       "aggSchema": [],
       "aggSeriesLimitReached": false,
       "aggType": "",
       "arguments": {},
       "columnCustomDisplayInfos": {},
       "data": [
        [
         "1",
         "9.85",
         "(+1.0)",
         "Yohan Blake",
         "32",
         "JAM",
         "Kingston, JAM",
         "23 Jun 22 - 26 Jun 22"
        ],
        [
         "2",
         "9.93",
         "(+2.9)",
         "Mouhamadou Fall",
         "30",
         "FRA",
         "Montverde, FL, USA",
         "4 Jun 22"
        ],
        [
         "3",
         "9.98",
         "(+1.1)",
         "Emmanuel Matadi",
         "31",
         "LBR",
         "Port-of-Spain, TTO",
         "24 Jun 22 - 26 Jun 22"
        ],
        [
         "4",
         "10.00",
         "(+5.6)",
         "Harry Aikines-Aryeetey",
         "33",
         "GBR",
         "Manchester, GBR",
         "24 Jun 22 - 26 Jun 22"
        ],
        [
         "5",
         "10.03",
         "(+1.2)",
         "Oshane Bailey",
         "32",
         "JAM",
         "Kingston, JAM",
         "23 Jun 22 - 26 Jun 22"
        ],
        [
         "6",
         "10.04",
         "(+0.6)",
         "Kemar Bailey-Cole",
         "30",
         "JAM",
         "Kingston, JAM",
         "23 Jun 22 - 26 Jun 22"
        ],
        [
         "7",
         "10.05",
         "(+2.1)",
         "Emile Erasmus",
         "30",
         "RSA",
         "København, DEN",
         "16 Jun 22"
        ],
        [
         "8",
         "10.06",
         "(-0.3 )",
         "Aaron Brown",
         "30",
         "CAN",
         "Zürich, SUI",
         "7 Sep 22 - 8 Sep 22"
        ],
        [
         "9",
         "10.07",
         "(+2.3)",
         "Jimmy Vicaut",
         "30",
         "FRA",
         "Savona, ITA",
         "18 May 22"
        ],
        [
         "10",
         "10.09",
         "(+1.2)",
         "Kukyoung Kim",
         "31",
         "KOR",
         "Tottori, JPN",
         "25 Jun 22 - 26 Jun 22"
        ],
        [
         "11",
         "10.10",
         "(+1.4)",
         "Isiah Young",
         "32",
         "USA",
         "Eugene, OR, USA",
         "23 Jun 22 - 26 Jun 22"
        ],
        [
         "12",
         "10.12",
         "(+2.7)",
         "Pascal Mancini",
         "33",
         "SUI",
         "Bulle, SUI",
         "9 Jul 22"
        ],
        [
         "13",
         "10.15",
         "(+0.1)",
         "Bingtian Su",
         "32",
         "CHN",
         "Eugene, OR, USA",
         "15 Jul 22 - 22 Jul 22"
        ],
        [
         "13",
         "10.15",
         "(+2.1)",
         "Chris Royster",
         "30",
         "USA",
         "Nashville, TN, USA",
         "3 Jun 22 - 5 Jun 22"
        ],
        [
         "15",
         "10.17",
         "(+1.0)",
         "Alonso Edward",
         "32",
         "PAN",
         "Valledupar, COL",
         "1 Jul 22 - 4 Jul 22"
        ],
        [
         "16",
         "10.18",
         "(+2.4)",
         "Eugene Amo-Dadzie",
         "30",
         "GBR",
         "Bedford, GBR",
         "30 Jul 22 - 31 Jul 22"
        ],
        [
         "17",
         "10.20",
         "(+0.1)",
         "Brendon Rodney",
         "30",
         "CAN",
         "Ostrava, CZE",
         "31 May 22"
        ],
        [
         "18",
         "10.22",
         "(-0.1)",
         "Emre Zafer Barnes",
         "33",
         "TUR",
         "Bursa, TUR",
         "25 Aug 22 - 26 Aug 22"
        ],
        [
         "18",
         "10.22",
         "(+0.1)",
         "Rasheed Dwyer",
         "33",
         "JAM",
         "Marietta, GA, USA",
         "2 Jul 22"
        ],
        [
         "18",
         "10.22",
         "(+0.4)",
         "Andrew Robertson",
         "31",
         "GBR",
         "Dublin, IRL",
         "2 Jul 22"
        ]
       ],
       "datasetInfos": [],
       "dbfsResultPath": null,
       "isJsonSchema": true,
       "metadata": {},
       "overflow": false,
       "plotOptions": {
        "customPlotOptions": {},
        "displayType": "table",
        "pivotAggregation": null,
        "pivotColumns": null,
        "xColumns": null,
        "yColumns": null
       },
       "removedWidgets": [],
       "schema": [
        {
         "metadata": "{}",
         "name": "Rank",
         "type": "\"string\""
        },
        {
         "metadata": "{}",
         "name": "Performance",
         "type": "\"string\""
        },
        {
         "metadata": "{}",
         "name": "Wind",
         "type": "\"string\""
        },
        {
         "metadata": "{}",
         "name": "Athlete",
         "type": "\"string\""
        },
        {
         "metadata": "{}",
         "name": "Age",
         "type": "\"string\""
        },
        {
         "metadata": "{}",
         "name": "Country",
         "type": "\"string\""
        },
        {
         "metadata": "{}",
         "name": "Location",
         "type": "\"string\""
        },
        {
         "metadata": "{}",
         "name": "Date",
         "type": "\"string\""
        }
       ],
       "type": "table"
      }
     },
     "output_type": "display_data"
    }
   ],
   "source": [
    "display(world_athletics_df.limit(20))"
   ]
  }
 ],
 "metadata": {
  "application/vnd.databricks.v1+notebook": {
   "dashboards": [],
   "language": "python",
   "notebookMetadata": {
    "pythonIndentUnit": 4
   },
   "notebookName": "f23-proj EDA",
   "widgets": {}
  }
 },
 "nbformat": 4,
 "nbformat_minor": 0
}
